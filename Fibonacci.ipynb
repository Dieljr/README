{
  "cells": [
    {
      "cell_type": "markdown",
      "metadata": {
        "id": "view-in-github",
        "colab_type": "text"
      },
      "source": [
        "<a href=\"https://colab.research.google.com/github/Dieljr/README/blob/main/Fibonacci.ipynb\" target=\"_parent\"><img src=\"https://colab.research.google.com/assets/colab-badge.svg\" alt=\"Open In Colab\"/></a>"
      ]
    },
    {
      "cell_type": "markdown",
      "source": [
        "# VELOCIDADE É O QUE IMPORTA"
      ],
      "metadata": {
        "id": "WbMcHsXIHjGB"
      }
    },
    {
      "cell_type": "markdown",
      "source": [
        "#Sequência Fibonacci: é uma sequencia de numeros crescentes e positivos, que soma o último com o penúltimo para encontrar o próximo valor.\n",
        "#exemplo: 0, 1, 1, 2, 3, 5, 8, 13, 21..."
      ],
      "metadata": {
        "id": "kWw-197IHaFc"
      }
    },
    {
      "cell_type": "code",
      "execution_count": null,
      "metadata": {
        "id": "ck0mH7ceHWVy",
        "outputId": "78bc41bf-edee-42bf-817c-7cd651c153d1"
      },
      "outputs": [
        {
          "name": "stdout",
          "output_type": "stream",
          "text": [
            "Quantos termos tem a sequência? 10\n",
            " - 1 - 2 - 3 - 5 - 8 - 13 - 21 - 34-> None Fim\n"
          ]
        }
      ],
      "source": [
        "#Fibonacci com entrada de n elementos\n",
        "# Usando a função def e loop while\n",
        "#código bem rápido\n",
        "#parte 1\n",
        "\n",
        "def fibo1(n):\n",
        "    n1 = 0\n",
        "    n2 = 1\n",
        "    count = 3\n",
        "    while count <= n:\n",
        "        n3 = n1 + n2 \n",
        "        print(' - {}'.format(n3), end = '')\n",
        "        n1 = n2\n",
        "        n2 = n3\n",
        "        count += 1\n",
        "          \n",
        "n = int(input('Quantos termos tem a sequência? '))\n",
        "print('->', fibo1(n), 'Fim')"
      ]
    },
    {
      "cell_type": "code",
      "execution_count": null,
      "metadata": {
        "id": "DdUV0ZvpHWVz",
        "outputId": "df42d8d2-fea3-4705-dd28-4aa885cc6713"
      },
      "outputs": [
        {
          "name": "stdout",
          "output_type": "stream",
          "text": [
            " - 1 - 1 - 2 - 3 - 5 - 8 - 13 - 21 - 34 - 55 - 89 - 144 - 233 - 377 - 610 - 987 - 1597 - 2584 - 4181 - 6765 - 10946 - 17711 - 28657 - 46368 - 75025 - 121393 - 196418 - 317811 - 514229 - 832040 - 1346269 - 2178309 - 3524578 - 5702887 -> Fim\n"
          ]
        }
      ],
      "source": [
        "#Fibonacci com def, for...range\n",
        "#é uma função lenta para sequências acima de 30 termos (trying), pois ela é recursiva, ou seja, chama a si mesma n vezes.\n",
        "#Parte 2\n",
        "\n",
        "def fibo2(n):\n",
        "    if n == 1:\n",
        "        return 1\n",
        "    elif n == 2:\n",
        "        return 1\n",
        "    elif n > 2:\n",
        "        return fibo2(n-1) + fibo2(n-2)\n",
        "\n",
        "for n in range(1,35):\n",
        "    print(' - {}'.format(fibo2(n)), end='')\n",
        "print(' -> Fim')"
      ]
    },
    {
      "cell_type": "code",
      "execution_count": null,
      "metadata": {
        "id": "310JH_zFHWV0",
        "outputId": "550759b4-eeef-42ee-d173-a840983c349f"
      },
      "outputs": [
        {
          "name": "stdout",
          "output_type": "stream",
          "text": [
            " - 1 - 1 - 2 - 3 - 5 - 8 - 13 - 21 - 34 - 55 - 89 - 144 - 233 - 377 - 610 - 987 - 1597 - 2584 - 4181 - 6765 - 10946 - 17711 - 28657 - 46368 - 75025 - 121393 - 196418 - 317811 - 514229 - 832040 - 1346269 - 2178309 - 3524578 - 5702887 -> Fim\n"
          ]
        }
      ],
      "source": [
        "#Fibonacci com def, for...range, mas com uso de reserva de memoria\n",
        "#é uma função um pouco mais rápida para sequências acima de 30 termos (trying)\n",
        "#Parte 3\n",
        "\n",
        "fiboMem = {} #reserva um cache de memoria\n",
        "\n",
        "def fibo3(n):\n",
        "    if n in fiboMem:\n",
        "        return fiboMem[n]\n",
        "    \n",
        "    if n == 1:\n",
        "        return 1\n",
        "    elif n == 2:\n",
        "        return 1\n",
        "    elif n > 2:\n",
        "        return fibo3(n-1) + fibo3(n-2)\n",
        "    \n",
        "    fiboMem[n] = value\n",
        "    return value\n",
        "\n",
        "for n in range(1, 35):\n",
        "    print(' - {}'.format(fibo2(n)), end='')\n",
        "print(' -> Fim')"
      ]
    },
    {
      "cell_type": "code",
      "execution_count": null,
      "metadata": {
        "id": "ujmhKyEPHWV0",
        "outputId": "879ac8df-2f4e-40d2-8b03-57a054adbcb5"
      },
      "outputs": [
        {
          "name": "stdout",
          "output_type": "stream",
          "text": [
            " - 1 - 1 - 2 - 3 - 5 - 8 - 13 - 21 - 34 - 55 - 89 - 144 - 233 - 377 - 610 - 987 - 1597 - 2584 - 4181 - 6765 - 10946 - 17711 - 28657 - 46368 - 75025 - 121393 - 196418 - 317811 - 514229 - 832040 - 1346269 - 2178309 - 3524578 - 5702887 - 9227465 - 14930352 - 24157817 - 39088169 - 63245986 - 102334155 - 165580141 - 267914296 - 433494437 - 701408733 - 1134903170 - 1836311903 - 2971215073 - 4807526976 - 7778742049 - 12586269025 - 20365011074 - 32951280099 - 53316291173 - 86267571272 - 139583862445 - 225851433717 - 365435296162 - 591286729879 - 956722026041 - 1548008755920 - 2504730781961 - 4052739537881 - 6557470319842 - 10610209857723 - 17167680177565 - 27777890035288 - 44945570212853 - 72723460248141 - 117669030460994 - 190392490709135 - 308061521170129 - 498454011879264 - 806515533049393 - 1304969544928657 - 2111485077978050 - 3416454622906707 - 5527939700884757 - 8944394323791464 - 14472334024676221 - 23416728348467685 - 37889062373143906 - 61305790721611591 - 99194853094755497 - 160500643816367088 - 259695496911122585 - 420196140727489673 - 679891637638612258 - 1100087778366101931 - 1779979416004714189 - 2880067194370816120 - 4660046610375530309 - 7540113804746346429 - 12200160415121876738 - 19740274219868223167 - 31940434634990099905 - 51680708854858323072 - 83621143489848422977 - 135301852344706746049 - 218922995834555169026 - 354224848179261915075 - 573147844013817084101 - 927372692193078999176 - 1500520536206896083277 - 2427893228399975082453 - 3928413764606871165730 - 6356306993006846248183 - 10284720757613717413913 - 16641027750620563662096 - 26925748508234281076009 - 43566776258854844738105 - 70492524767089125814114 - 114059301025943970552219 - 184551825793033096366333 - 298611126818977066918552 - 483162952612010163284885 - 781774079430987230203437 - 1264937032042997393488322 - 2046711111473984623691759 - 3311648143516982017180081 - 5358359254990966640871840 - 8670007398507948658051921 - 14028366653498915298923761 - 22698374052006863956975682 - 36726740705505779255899443 - 59425114757512643212875125 - 96151855463018422468774568 - 155576970220531065681649693 - 251728825683549488150424261 - 407305795904080553832073954 - 659034621587630041982498215 - 1066340417491710595814572169 - 1725375039079340637797070384 - 2791715456571051233611642553 - 4517090495650391871408712937 - 7308805952221443105020355490 - 11825896447871834976429068427 - 19134702400093278081449423917 - 30960598847965113057878492344 - 50095301248058391139327916261 - 81055900096023504197206408605 - 131151201344081895336534324866 - 212207101440105399533740733471 - 343358302784187294870275058337 - 555565404224292694404015791808 - 898923707008479989274290850145 - 1454489111232772683678306641953 - 2353412818241252672952597492098 - 3807901929474025356630904134051 - 6161314747715278029583501626149 -> Fim\n"
          ]
        }
      ],
      "source": [
        "#Fibonacci com def, for...range, mas com uso da função lru_cache\n",
        "#é um foguete, na velocidade da luz!\n",
        "#Parte 4\n",
        "\n",
        "from functools import lru_cache\n",
        "\n",
        "@lru_cache(maxsize = 200) #por padrão é 128\n",
        "def fino4(n):\n",
        "    if n == 1:\n",
        "        return 1\n",
        "    elif n == 2:\n",
        "        return 1\n",
        "    elif n > 2:\n",
        "        return fino4(n-1) + fino4(n-2)\n",
        "    \n",
        "for n in range(1,150):\n",
        "    print(' - {}'.format(fino4(n)), end='')\n",
        "print(' -> Fim')\n",
        "    \n",
        "    "
      ]
    },
    {
      "cell_type": "code",
      "execution_count": null,
      "metadata": {
        "id": "3iNK7VVqHWV1"
      },
      "outputs": [],
      "source": [
        ""
      ]
    }
  ],
  "metadata": {
    "kernelspec": {
      "display_name": "Python 3",
      "language": "python",
      "name": "python3"
    },
    "language_info": {
      "codemirror_mode": {
        "name": "ipython",
        "version": 3
      },
      "file_extension": ".py",
      "mimetype": "text/x-python",
      "name": "python",
      "nbconvert_exporter": "python",
      "pygments_lexer": "ipython3",
      "version": "3.7.6"
    },
    "colab": {
      "name": "Fibonacci.ipynb",
      "provenance": [],
      "collapsed_sections": [],
      "include_colab_link": true
    }
  },
  "nbformat": 4,
  "nbformat_minor": 0
}