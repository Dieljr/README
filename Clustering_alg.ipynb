{
  "cells": [
    {
      "cell_type": "markdown",
      "metadata": {
        "id": "view-in-github",
        "colab_type": "text"
      },
      "source": [
        "<a href=\"https://colab.research.google.com/github/Dieljr/README/blob/main/Clustering_alg.ipynb\" target=\"_parent\"><img src=\"https://colab.research.google.com/assets/colab-badge.svg\" alt=\"Open In Colab\"/></a>"
      ]
    },
    {
      "cell_type": "markdown",
      "metadata": {
        "id": "T8nlJHmTN7d9"
      },
      "source": [
        "# <font color='blue'>Projeto de Clusterização para Aprendizagem Não Supervisionada</font>"
      ]
    },
    {
      "cell_type": "markdown",
      "metadata": {
        "id": "ylDAivjrN7eC"
      },
      "source": [
        "# Dataset\n",
        "## Individual Household Electric Power Consumption - IHEPC"
      ]
    },
    {
      "cell_type": "markdown",
      "metadata": {
        "id": "ScICIQxTN7eE"
      },
      "source": [
        "### Objetivo: encontrar os melhores agrupamentos por consumo de energia"
      ]
    },
    {
      "cell_type": "markdown",
      "metadata": {
        "id": "P9yjMgUgN7eF"
      },
      "source": [
        "### Source:\n",
        "\n",
        "#### Site:\n",
        "\n",
        "https://archive.ics.uci.edu/ml/datasets/Individual+household+electric+power+consumption\n",
        "\n",
        "Georges Hebrail (georges.hebrail '@' edf.fr), Senior Researcher, EDF R&D, Clamart, France\n",
        "Alice Berard, TELECOM ParisTech Master of Engineering Internship at EDF R&D, Clamart, France"
      ]
    },
    {
      "cell_type": "markdown",
      "metadata": {
        "id": "qqGde67yN7eG"
      },
      "source": [
        "### Data Set Information:\n",
        "\n",
        "This archive contains 2075259 measurements gathered in a house located in Sceaux (7km of Paris, France) between December 2006 and November 2010 (47 months).\n",
        "Notes:\n",
        "1.(global_active_power*1000/60 - sub_metering_1 - sub_metering_2 - sub_metering_3) represents the active energy consumed every minute (in watt hour) in the household by electrical equipment not measured in sub-meterings 1, 2 and 3.\n",
        "2.The dataset contains some missing values in the measurements (nearly 1,25% of the rows). All calendar timestamps are present in the dataset but for some timestamps, the measurement values are missing: a missing value is represented by the absence of value between two consecutive semi-colon attribute separators. For instance, the dataset shows missing values on April 28, 2007."
      ]
    },
    {
      "cell_type": "markdown",
      "metadata": {
        "id": "LM6P-fJkN7eG"
      },
      "source": [
        "### Attribute Information:\n",
        "\n",
        "1.date: Date in format dd/mm/yyyy,\n",
        "\n",
        "2.time: time in format hh:mm:ss\n",
        "\n",
        "3.global_active_power: household global minute-averaged active power (in kilowatt)\n",
        "\n",
        "4.global_reactive_power: household global minute-averaged reactive power (in kilowatt)\n",
        "\n",
        "5.voltage: minute-averaged voltage (in volt)\n",
        "\n",
        "6.global_intensity: household global minute-averaged current intensity (in ampere)\n",
        "\n",
        "7.sub_metering_1: energy sub-metering No. 1 (in watt-hour of active energy). It corresponds to the kitchen, containing mainly a dishwasher, an oven and a microwave (hot plates are not electric but gas powered).\n",
        "\n",
        "8.sub_metering_2: energy sub-metering No. 2 (in watt-hour of active energy). It corresponds to the laundry room, containing a washing-machine, a tumble-drier, a refrigerator and a light.\n",
        "\n",
        "9.sub_metering_3: energy sub-metering No. 3 (in watt-hour of active energy). It corresponds to an electric water-heater and an air-conditioner."
      ]
    },
    {
      "cell_type": "markdown",
      "metadata": {
        "id": "J0p0EDJBN7eH"
      },
      "source": [
        "### Citation Request:\n",
        "\n",
        "This dataset is made available under the “Creative Commons Attribution 4.0 International (CC BY 4.0)” license"
      ]
    },
    {
      "cell_type": "markdown",
      "metadata": {
        "id": "0fsGsDrbN7eI"
      },
      "source": [
        "### CARREGAR PACOTES INICIAIS"
      ]
    },
    {
      "cell_type": "code",
      "execution_count": null,
      "metadata": {
        "id": "8LepvY26N7eJ"
      },
      "outputs": [],
      "source": [
        "import pandas as pd\n",
        "import numpy as np\n",
        "\n",
        "import matplotlib.pyplot as plt\n",
        "%matplotlib inline\n",
        "\n",
        "import seaborn as sb\n",
        "\n",
        "import warnings\n",
        "warnings.filterwarnings(\"ignore\")"
      ]
    },
    {
      "cell_type": "code",
      "execution_count": null,
      "metadata": {
        "id": "VlMmXpbBN7eK"
      },
      "outputs": [],
      "source": [
        "# Carregar os dados\n",
        "df = pd.read_csv('hpc.txt', delimiter = ';')"
      ]
    },
    {
      "cell_type": "code",
      "execution_count": null,
      "metadata": {
        "id": "uhGEvU9-N7eL",
        "outputId": "818add66-dcbf-4399-c148-97287897b41f"
      },
      "outputs": [
        {
          "data": {
            "text/html": [
              "<div>\n",
              "<style scoped>\n",
              "    .dataframe tbody tr th:only-of-type {\n",
              "        vertical-align: middle;\n",
              "    }\n",
              "\n",
              "    .dataframe tbody tr th {\n",
              "        vertical-align: top;\n",
              "    }\n",
              "\n",
              "    .dataframe thead th {\n",
              "        text-align: right;\n",
              "    }\n",
              "</style>\n",
              "<table border=\"1\" class=\"dataframe\">\n",
              "  <thead>\n",
              "    <tr style=\"text-align: right;\">\n",
              "      <th></th>\n",
              "      <th>Date</th>\n",
              "      <th>Time</th>\n",
              "      <th>Global_active_power</th>\n",
              "      <th>Global_reactive_power</th>\n",
              "      <th>Voltage</th>\n",
              "      <th>Global_intensity</th>\n",
              "      <th>Sub_metering_1</th>\n",
              "      <th>Sub_metering_2</th>\n",
              "      <th>Sub_metering_3</th>\n",
              "    </tr>\n",
              "  </thead>\n",
              "  <tbody>\n",
              "    <tr>\n",
              "      <th>0</th>\n",
              "      <td>16/12/2006</td>\n",
              "      <td>17:24:00</td>\n",
              "      <td>4.216</td>\n",
              "      <td>0.418</td>\n",
              "      <td>234.840</td>\n",
              "      <td>18.400</td>\n",
              "      <td>0.000</td>\n",
              "      <td>1.000</td>\n",
              "      <td>17.0</td>\n",
              "    </tr>\n",
              "    <tr>\n",
              "      <th>1</th>\n",
              "      <td>16/12/2006</td>\n",
              "      <td>17:25:00</td>\n",
              "      <td>5.360</td>\n",
              "      <td>0.436</td>\n",
              "      <td>233.630</td>\n",
              "      <td>23.000</td>\n",
              "      <td>0.000</td>\n",
              "      <td>1.000</td>\n",
              "      <td>16.0</td>\n",
              "    </tr>\n",
              "    <tr>\n",
              "      <th>2</th>\n",
              "      <td>16/12/2006</td>\n",
              "      <td>17:26:00</td>\n",
              "      <td>5.374</td>\n",
              "      <td>0.498</td>\n",
              "      <td>233.290</td>\n",
              "      <td>23.000</td>\n",
              "      <td>0.000</td>\n",
              "      <td>2.000</td>\n",
              "      <td>17.0</td>\n",
              "    </tr>\n",
              "    <tr>\n",
              "      <th>3</th>\n",
              "      <td>16/12/2006</td>\n",
              "      <td>17:27:00</td>\n",
              "      <td>5.388</td>\n",
              "      <td>0.502</td>\n",
              "      <td>233.740</td>\n",
              "      <td>23.000</td>\n",
              "      <td>0.000</td>\n",
              "      <td>1.000</td>\n",
              "      <td>17.0</td>\n",
              "    </tr>\n",
              "    <tr>\n",
              "      <th>4</th>\n",
              "      <td>16/12/2006</td>\n",
              "      <td>17:28:00</td>\n",
              "      <td>3.666</td>\n",
              "      <td>0.528</td>\n",
              "      <td>235.680</td>\n",
              "      <td>15.800</td>\n",
              "      <td>0.000</td>\n",
              "      <td>1.000</td>\n",
              "      <td>17.0</td>\n",
              "    </tr>\n",
              "  </tbody>\n",
              "</table>\n",
              "</div>"
            ],
            "text/plain": [
              "         Date      Time Global_active_power Global_reactive_power  Voltage  \\\n",
              "0  16/12/2006  17:24:00               4.216                 0.418  234.840   \n",
              "1  16/12/2006  17:25:00               5.360                 0.436  233.630   \n",
              "2  16/12/2006  17:26:00               5.374                 0.498  233.290   \n",
              "3  16/12/2006  17:27:00               5.388                 0.502  233.740   \n",
              "4  16/12/2006  17:28:00               3.666                 0.528  235.680   \n",
              "\n",
              "  Global_intensity Sub_metering_1 Sub_metering_2  Sub_metering_3  \n",
              "0           18.400          0.000          1.000            17.0  \n",
              "1           23.000          0.000          1.000            16.0  \n",
              "2           23.000          0.000          2.000            17.0  \n",
              "3           23.000          0.000          1.000            17.0  \n",
              "4           15.800          0.000          1.000            17.0  "
            ]
          },
          "execution_count": 3,
          "metadata": {},
          "output_type": "execute_result"
        }
      ],
      "source": [
        "df.head()"
      ]
    },
    {
      "cell_type": "markdown",
      "metadata": {
        "id": "bDj--zodN7eM"
      },
      "source": [
        "### ANÁLISE EXPLORATÓRIA"
      ]
    },
    {
      "cell_type": "code",
      "execution_count": null,
      "metadata": {
        "id": "8OYX4mOuN7eM",
        "outputId": "22231522-0749-4d8e-a911-7efeed2cbfca"
      },
      "outputs": [
        {
          "name": "stdout",
          "output_type": "stream",
          "text": [
            "<class 'pandas.core.frame.DataFrame'>\n",
            "RangeIndex: 2075259 entries, 0 to 2075258\n",
            "Data columns (total 9 columns):\n",
            " #   Column                 Dtype  \n",
            "---  ------                 -----  \n",
            " 0   Date                   object \n",
            " 1   Time                   object \n",
            " 2   Global_active_power    object \n",
            " 3   Global_reactive_power  object \n",
            " 4   Voltage                object \n",
            " 5   Global_intensity       object \n",
            " 6   Sub_metering_1         object \n",
            " 7   Sub_metering_2         object \n",
            " 8   Sub_metering_3         float64\n",
            "dtypes: float64(1), object(8)\n",
            "memory usage: 142.5+ MB\n",
            "None\n"
          ]
        }
      ],
      "source": [
        "print(df.info())"
      ]
    },
    {
      "cell_type": "code",
      "execution_count": null,
      "metadata": {
        "id": "UzRz1vrZN7eN",
        "outputId": "de396447-7f55-48db-fd00-077e27e40b69"
      },
      "outputs": [
        {
          "name": "stdout",
          "output_type": "stream",
          "text": [
            "Date                     1442\n",
            "Time                     1440\n",
            "Global_active_power      6534\n",
            "Global_reactive_power     896\n",
            "Voltage                  5168\n",
            "Global_intensity          377\n",
            "Sub_metering_1            153\n",
            "Sub_metering_2            145\n",
            "Sub_metering_3             32\n",
            "dtype: int64\n"
          ]
        }
      ],
      "source": [
        "# Pela quantidade de valores únicos, pode-se identificar possíveis variáveis categóricas\n",
        "# Aparentemente não há variáveis categóricas\n",
        "print(df.nunique())"
      ]
    },
    {
      "cell_type": "code",
      "execution_count": null,
      "metadata": {
        "id": "Salb65bbN7eN",
        "outputId": "92975e82-2a08-4c49-854c-46fb211f6888"
      },
      "outputs": [
        {
          "data": {
            "text/plain": [
              "True"
            ]
          },
          "execution_count": 6,
          "metadata": {},
          "output_type": "execute_result"
        }
      ],
      "source": [
        "# Buscar por valores missing\n",
        "df.isna().values.any()"
      ]
    },
    {
      "cell_type": "code",
      "execution_count": null,
      "metadata": {
        "id": "bLJGJcV4N7eO",
        "outputId": "3ec19f64-3006-4f03-c0d7-bacb53a3a5e8"
      },
      "outputs": [
        {
          "data": {
            "text/plain": [
              "Date                         0\n",
              "Time                         0\n",
              "Global_active_power          0\n",
              "Global_reactive_power        0\n",
              "Voltage                      0\n",
              "Global_intensity             0\n",
              "Sub_metering_1               0\n",
              "Sub_metering_2               0\n",
              "Sub_metering_3           25979\n",
              "dtype: int64"
            ]
          },
          "execution_count": 7,
          "metadata": {},
          "output_type": "execute_result"
        }
      ],
      "source": [
        "# Existe uma grande quantidade de valores missing na variável 'Sub_metering_3'\n",
        "df.isna().sum()"
      ]
    },
    {
      "cell_type": "code",
      "execution_count": null,
      "metadata": {
        "id": "-iKQYuQcN7eO",
        "outputId": "7cf06f2b-9e7f-4fcd-991a-f1e524503b5f"
      },
      "outputs": [
        {
          "name": "stdout",
          "output_type": "stream",
          "text": [
            "1.2518437457686005 %\n"
          ]
        }
      ],
      "source": [
        "# Caso o números de valores missing seja igual ou inferior a 5% pode-se descata-las\n",
        "print((25979/2075259)*100, '%')"
      ]
    },
    {
      "cell_type": "code",
      "execution_count": null,
      "metadata": {
        "id": "0kX28YLjN7eO",
        "outputId": "2728b469-3415-44e3-b1a8-43251320312e"
      },
      "outputs": [
        {
          "data": {
            "text/html": [
              "<div>\n",
              "<style scoped>\n",
              "    .dataframe tbody tr th:only-of-type {\n",
              "        vertical-align: middle;\n",
              "    }\n",
              "\n",
              "    .dataframe tbody tr th {\n",
              "        vertical-align: top;\n",
              "    }\n",
              "\n",
              "    .dataframe thead th {\n",
              "        text-align: right;\n",
              "    }\n",
              "</style>\n",
              "<table border=\"1\" class=\"dataframe\">\n",
              "  <thead>\n",
              "    <tr style=\"text-align: right;\">\n",
              "      <th></th>\n",
              "      <th>Sub_metering_3</th>\n",
              "    </tr>\n",
              "  </thead>\n",
              "  <tbody>\n",
              "    <tr>\n",
              "      <th>count</th>\n",
              "      <td>2.049280e+06</td>\n",
              "    </tr>\n",
              "    <tr>\n",
              "      <th>mean</th>\n",
              "      <td>6.458447e+00</td>\n",
              "    </tr>\n",
              "    <tr>\n",
              "      <th>std</th>\n",
              "      <td>8.437154e+00</td>\n",
              "    </tr>\n",
              "    <tr>\n",
              "      <th>min</th>\n",
              "      <td>0.000000e+00</td>\n",
              "    </tr>\n",
              "    <tr>\n",
              "      <th>25%</th>\n",
              "      <td>0.000000e+00</td>\n",
              "    </tr>\n",
              "    <tr>\n",
              "      <th>50%</th>\n",
              "      <td>1.000000e+00</td>\n",
              "    </tr>\n",
              "    <tr>\n",
              "      <th>75%</th>\n",
              "      <td>1.700000e+01</td>\n",
              "    </tr>\n",
              "    <tr>\n",
              "      <th>max</th>\n",
              "      <td>3.100000e+01</td>\n",
              "    </tr>\n",
              "  </tbody>\n",
              "</table>\n",
              "</div>"
            ],
            "text/plain": [
              "       Sub_metering_3\n",
              "count    2.049280e+06\n",
              "mean     6.458447e+00\n",
              "std      8.437154e+00\n",
              "min      0.000000e+00\n",
              "25%      0.000000e+00\n",
              "50%      1.000000e+00\n",
              "75%      1.700000e+01\n",
              "max      3.100000e+01"
            ]
          },
          "execution_count": 9,
          "metadata": {},
          "output_type": "execute_result"
        }
      ],
      "source": [
        "# Breve análise estatística, excluindo date e time\n",
        "df.iloc[:, 2:9].describe()"
      ]
    },
    {
      "cell_type": "markdown",
      "metadata": {
        "id": "lTvKaSFhN7eP"
      },
      "source": [
        "### <font color  = '#0000FF'>CONSIDERAÇÕES INICIAIS</font>"
      ]
    },
    {
      "cell_type": "raw",
      "metadata": {
        "id": "Ish-78kHN7eP"
      },
      "source": [
        "a) variáveis DATE e TIME para o processo de clusterização não são necessárias;\n",
        "b) demais variáveis que são object devem ser convertidas para tipo float;\n",
        "c) não há variáveis categóricas;\n",
        "d) os valores missing representam menos de 5% do dataset, por isso a melhor estratégia é excluí-los\n",
        "e) normalizar os dados para que fiquem entre 0 e 1"
      ]
    },
    {
      "cell_type": "markdown",
      "metadata": {
        "id": "93_vdQZgN7eP"
      },
      "source": [
        "### TRANSFORMAÇÃO DOS DADOS"
      ]
    },
    {
      "cell_type": "code",
      "execution_count": null,
      "metadata": {
        "id": "WcPaDtnsN7eQ"
      },
      "outputs": [],
      "source": [
        "# Eliminar os dados missing e eliminar as duas primeiras instâncias: DATE e TIME\n",
        "df = df.iloc[:, 2:9].dropna()"
      ]
    },
    {
      "cell_type": "code",
      "execution_count": null,
      "metadata": {
        "id": "Q0WWgRanN7eQ"
      },
      "outputs": [],
      "source": [
        "# Conversão de variaveis object para float\n",
        "\n",
        "for i in df.select_dtypes(include = 'object'):\n",
        "    df[i] = df[i].astype(str).astype(float)"
      ]
    },
    {
      "cell_type": "code",
      "execution_count": null,
      "metadata": {
        "id": "EQPoXEaIN7eQ",
        "outputId": "d96fcb5c-2ba2-442d-bf99-be409988a06f"
      },
      "outputs": [
        {
          "data": {
            "text/html": [
              "<div>\n",
              "<style scoped>\n",
              "    .dataframe tbody tr th:only-of-type {\n",
              "        vertical-align: middle;\n",
              "    }\n",
              "\n",
              "    .dataframe tbody tr th {\n",
              "        vertical-align: top;\n",
              "    }\n",
              "\n",
              "    .dataframe thead th {\n",
              "        text-align: right;\n",
              "    }\n",
              "</style>\n",
              "<table border=\"1\" class=\"dataframe\">\n",
              "  <thead>\n",
              "    <tr style=\"text-align: right;\">\n",
              "      <th></th>\n",
              "      <th>Global_active_power</th>\n",
              "      <th>Global_reactive_power</th>\n",
              "      <th>Voltage</th>\n",
              "      <th>Global_intensity</th>\n",
              "      <th>Sub_metering_1</th>\n",
              "      <th>Sub_metering_2</th>\n",
              "      <th>Sub_metering_3</th>\n",
              "    </tr>\n",
              "  </thead>\n",
              "  <tbody>\n",
              "    <tr>\n",
              "      <th>0</th>\n",
              "      <td>4.216</td>\n",
              "      <td>0.418</td>\n",
              "      <td>234.84</td>\n",
              "      <td>18.4</td>\n",
              "      <td>0.0</td>\n",
              "      <td>1.0</td>\n",
              "      <td>17.0</td>\n",
              "    </tr>\n",
              "    <tr>\n",
              "      <th>1</th>\n",
              "      <td>5.360</td>\n",
              "      <td>0.436</td>\n",
              "      <td>233.63</td>\n",
              "      <td>23.0</td>\n",
              "      <td>0.0</td>\n",
              "      <td>1.0</td>\n",
              "      <td>16.0</td>\n",
              "    </tr>\n",
              "    <tr>\n",
              "      <th>2</th>\n",
              "      <td>5.374</td>\n",
              "      <td>0.498</td>\n",
              "      <td>233.29</td>\n",
              "      <td>23.0</td>\n",
              "      <td>0.0</td>\n",
              "      <td>2.0</td>\n",
              "      <td>17.0</td>\n",
              "    </tr>\n",
              "    <tr>\n",
              "      <th>3</th>\n",
              "      <td>5.388</td>\n",
              "      <td>0.502</td>\n",
              "      <td>233.74</td>\n",
              "      <td>23.0</td>\n",
              "      <td>0.0</td>\n",
              "      <td>1.0</td>\n",
              "      <td>17.0</td>\n",
              "    </tr>\n",
              "    <tr>\n",
              "      <th>4</th>\n",
              "      <td>3.666</td>\n",
              "      <td>0.528</td>\n",
              "      <td>235.68</td>\n",
              "      <td>15.8</td>\n",
              "      <td>0.0</td>\n",
              "      <td>1.0</td>\n",
              "      <td>17.0</td>\n",
              "    </tr>\n",
              "  </tbody>\n",
              "</table>\n",
              "</div>"
            ],
            "text/plain": [
              "   Global_active_power  Global_reactive_power  Voltage  Global_intensity  \\\n",
              "0                4.216                  0.418   234.84              18.4   \n",
              "1                5.360                  0.436   233.63              23.0   \n",
              "2                5.374                  0.498   233.29              23.0   \n",
              "3                5.388                  0.502   233.74              23.0   \n",
              "4                3.666                  0.528   235.68              15.8   \n",
              "\n",
              "   Sub_metering_1  Sub_metering_2  Sub_metering_3  \n",
              "0             0.0             1.0            17.0  \n",
              "1             0.0             1.0            16.0  \n",
              "2             0.0             2.0            17.0  \n",
              "3             0.0             1.0            17.0  \n",
              "4             0.0             1.0            17.0  "
            ]
          },
          "execution_count": 12,
          "metadata": {},
          "output_type": "execute_result"
        }
      ],
      "source": [
        "df.head()"
      ]
    },
    {
      "cell_type": "code",
      "execution_count": null,
      "metadata": {
        "id": "FRdLXvyBN7eR",
        "outputId": "dd9f5036-d4a9-4cc4-b0d0-8174c071387e"
      },
      "outputs": [
        {
          "name": "stdout",
          "output_type": "stream",
          "text": [
            "<class 'pandas.core.frame.DataFrame'>\n",
            "Int64Index: 2049280 entries, 0 to 2075258\n",
            "Data columns (total 7 columns):\n",
            " #   Column                 Dtype  \n",
            "---  ------                 -----  \n",
            " 0   Global_active_power    float64\n",
            " 1   Global_reactive_power  float64\n",
            " 2   Voltage                float64\n",
            " 3   Global_intensity       float64\n",
            " 4   Sub_metering_1         float64\n",
            " 5   Sub_metering_2         float64\n",
            " 6   Sub_metering_3         float64\n",
            "dtypes: float64(7)\n",
            "memory usage: 125.1 MB\n"
          ]
        }
      ],
      "source": [
        "df.info()"
      ]
    },
    {
      "cell_type": "code",
      "execution_count": null,
      "metadata": {
        "id": "cwXPM_NcN7eR",
        "outputId": "e196570b-8f3c-48da-f108-d4da06b8492b"
      },
      "outputs": [
        {
          "data": {
            "text/plain": [
              "False"
            ]
          },
          "execution_count": 14,
          "metadata": {},
          "output_type": "execute_result"
        }
      ],
      "source": [
        "# Busca por valores missing\n",
        "df.isna().values.any()"
      ]
    },
    {
      "cell_type": "code",
      "execution_count": null,
      "metadata": {
        "id": "dKyBdOhBN7eR",
        "outputId": "2808fb8d-1cdd-434e-83fa-95ca805ec22c"
      },
      "outputs": [
        {
          "data": {
            "image/png": "[encoded data removed]",
            "text/plain": [
              "<Figure size 1080x864 with 1 Axes>"
            ]
          },
          "metadata": {
            "needs_background": "light"
          },
          "output_type": "display_data"
        }
      ],
      "source": [
        "# Busca por outiliers\n",
        "plt.figure(figsize = (15,12))\n",
        "df.boxplot(color = 'red')\n",
        "plt.title('Análise Estatística dos Principais Parametros')\n",
        "plt.xlabel('Indicadores')\n",
        "plt.ylabel('Instâncias')\n",
        "plt.show()\n"
      ]
    },
    {
      "cell_type": "code",
      "execution_count": null,
      "metadata": {
        "id": "50XrjOXBN7eS",
        "outputId": "01bd741e-5da0-4118-9abd-6a51b7629664"
      },
      "outputs": [
        {
          "data": {
            "text/html": [
              "<div>\n",
              "<style scoped>\n",
              "    .dataframe tbody tr th:only-of-type {\n",
              "        vertical-align: middle;\n",
              "    }\n",
              "\n",
              "    .dataframe tbody tr th {\n",
              "        vertical-align: top;\n",
              "    }\n",
              "\n",
              "    .dataframe thead th {\n",
              "        text-align: right;\n",
              "    }\n",
              "</style>\n",
              "<table border=\"1\" class=\"dataframe\">\n",
              "  <thead>\n",
              "    <tr style=\"text-align: right;\">\n",
              "      <th></th>\n",
              "      <th>Global_active_power</th>\n",
              "      <th>Global_reactive_power</th>\n",
              "      <th>Voltage</th>\n",
              "      <th>Global_intensity</th>\n",
              "      <th>Sub_metering_1</th>\n",
              "      <th>Sub_metering_2</th>\n",
              "      <th>Sub_metering_3</th>\n",
              "    </tr>\n",
              "  </thead>\n",
              "  <tbody>\n",
              "    <tr>\n",
              "      <th>count</th>\n",
              "      <td>2.049280e+06</td>\n",
              "      <td>2.049280e+06</td>\n",
              "      <td>2.049280e+06</td>\n",
              "      <td>2.049280e+06</td>\n",
              "      <td>2.049280e+06</td>\n",
              "      <td>2.049280e+06</td>\n",
              "      <td>2.049280e+06</td>\n",
              "    </tr>\n",
              "    <tr>\n",
              "      <th>mean</th>\n",
              "      <td>1.091615e+00</td>\n",
              "      <td>1.237145e-01</td>\n",
              "      <td>2.408399e+02</td>\n",
              "      <td>4.627759e+00</td>\n",
              "      <td>1.121923e+00</td>\n",
              "      <td>1.298520e+00</td>\n",
              "      <td>6.458447e+00</td>\n",
              "    </tr>\n",
              "    <tr>\n",
              "      <th>std</th>\n",
              "      <td>1.057294e+00</td>\n",
              "      <td>1.127220e-01</td>\n",
              "      <td>3.239987e+00</td>\n",
              "      <td>4.444396e+00</td>\n",
              "      <td>6.153031e+00</td>\n",
              "      <td>5.822026e+00</td>\n",
              "      <td>8.437154e+00</td>\n",
              "    </tr>\n",
              "    <tr>\n",
              "      <th>min</th>\n",
              "      <td>7.600000e-02</td>\n",
              "      <td>0.000000e+00</td>\n",
              "      <td>2.232000e+02</td>\n",
              "      <td>2.000000e-01</td>\n",
              "      <td>0.000000e+00</td>\n",
              "      <td>0.000000e+00</td>\n",
              "      <td>0.000000e+00</td>\n",
              "    </tr>\n",
              "    <tr>\n",
              "      <th>25%</th>\n",
              "      <td>3.080000e-01</td>\n",
              "      <td>4.800000e-02</td>\n",
              "      <td>2.389900e+02</td>\n",
              "      <td>1.400000e+00</td>\n",
              "      <td>0.000000e+00</td>\n",
              "      <td>0.000000e+00</td>\n",
              "      <td>0.000000e+00</td>\n",
              "    </tr>\n",
              "    <tr>\n",
              "      <th>50%</th>\n",
              "      <td>6.020000e-01</td>\n",
              "      <td>1.000000e-01</td>\n",
              "      <td>2.410100e+02</td>\n",
              "      <td>2.600000e+00</td>\n",
              "      <td>0.000000e+00</td>\n",
              "      <td>0.000000e+00</td>\n",
              "      <td>1.000000e+00</td>\n",
              "    </tr>\n",
              "    <tr>\n",
              "      <th>75%</th>\n",
              "      <td>1.528000e+00</td>\n",
              "      <td>1.940000e-01</td>\n",
              "      <td>2.428900e+02</td>\n",
              "      <td>6.400000e+00</td>\n",
              "      <td>0.000000e+00</td>\n",
              "      <td>1.000000e+00</td>\n",
              "      <td>1.700000e+01</td>\n",
              "    </tr>\n",
              "    <tr>\n",
              "      <th>max</th>\n",
              "      <td>1.112200e+01</td>\n",
              "      <td>1.390000e+00</td>\n",
              "      <td>2.541500e+02</td>\n",
              "      <td>4.840000e+01</td>\n",
              "      <td>8.800000e+01</td>\n",
              "      <td>8.000000e+01</td>\n",
              "      <td>3.100000e+01</td>\n",
              "    </tr>\n",
              "  </tbody>\n",
              "</table>\n",
              "</div>"
            ],
            "text/plain": [
              "       Global_active_power  Global_reactive_power       Voltage  \\\n",
              "count         2.049280e+06           2.049280e+06  2.049280e+06   \n",
              "mean          1.091615e+00           1.237145e-01  2.408399e+02   \n",
              "std           1.057294e+00           1.127220e-01  3.239987e+00   \n",
              "min           7.600000e-02           0.000000e+00  2.232000e+02   \n",
              "25%           3.080000e-01           4.800000e-02  2.389900e+02   \n",
              "50%           6.020000e-01           1.000000e-01  2.410100e+02   \n",
              "75%           1.528000e+00           1.940000e-01  2.428900e+02   \n",
              "max           1.112200e+01           1.390000e+00  2.541500e+02   \n",
              "\n",
              "       Global_intensity  Sub_metering_1  Sub_metering_2  Sub_metering_3  \n",
              "count      2.049280e+06    2.049280e+06    2.049280e+06    2.049280e+06  \n",
              "mean       4.627759e+00    1.121923e+00    1.298520e+00    6.458447e+00  \n",
              "std        4.444396e+00    6.153031e+00    5.822026e+00    8.437154e+00  \n",
              "min        2.000000e-01    0.000000e+00    0.000000e+00    0.000000e+00  \n",
              "25%        1.400000e+00    0.000000e+00    0.000000e+00    0.000000e+00  \n",
              "50%        2.600000e+00    0.000000e+00    0.000000e+00    1.000000e+00  \n",
              "75%        6.400000e+00    0.000000e+00    1.000000e+00    1.700000e+01  \n",
              "max        4.840000e+01    8.800000e+01    8.000000e+01    3.100000e+01  "
            ]
          },
          "execution_count": 16,
          "metadata": {},
          "output_type": "execute_result"
        }
      ],
      "source": [
        "df.describe()"
      ]
    },
    {
      "cell_type": "markdown",
      "metadata": {
        "id": "fQO3Kkt7N7eS"
      },
      "source": [
        "### <font color = '#0000FF'>PREPROCESSAMENTO E MACHINE LEARNING<font/>\n",
        "#### <font color = 'FF0000'>Carregamento dos pacotes para Machine Learning<font/>"
      ]
    },
    {
      "cell_type": "code",
      "execution_count": null,
      "metadata": {
        "id": "YdUjn0bIN7eS"
      },
      "outputs": [],
      "source": [
        "# normalizar os dados\n",
        "from sklearn.preprocessing import StandardScaler\n",
        "\n",
        "# Cria os agrupamentos\n",
        "from sklearn.cluster import KMeans\n",
        "\n",
        "# Separa dados de treinamento\n",
        "from sklearn.model_selection import train_test_split\n",
        "\n",
        "# Decompor a massa de dados em componentes\n",
        "from sklearn.decomposition import PCA\n",
        "\n",
        "# Avalia o score do kmeans\n",
        "from sklearn.metrics import silhouette_score"
      ]
    },
    {
      "cell_type": "raw",
      "metadata": {
        "id": "ZoVFy7cPN7eS"
      },
      "source": [
        "K-Means, após determinar o valor de K, separa os grupos que tenham variancias iguais, reduzindo a soma dos quadrados de cada amostra. O algoritmo escolhe os melhores centróides para cada agrupamento.\n",
        "\n",
        "K-Means é um dos principais algoritmos de clusterização.\n",
        "\n",
        "PCA: quase sempre, ao se trabalhar com datasets que tenham muitas variáveis, mas não só por isso, utilizamos o PCA. O PCA cria conjuntos ortogonais(vetores euclidianos perpendiculares (angulos retos))"
      ]
    },
    {
      "cell_type": "markdown",
      "metadata": {
        "id": "LaMYotBDN7eT"
      },
      "source": [
        "### PARAMETROS DO KMeans:\n",
        "\n",
        "class sklearn.cluster.KMeans(n_clusters=8, *, init='k-means++', n_init=10, max_iter=300, tol=0.0001, verbose=0, random_state=None, copy_x=True, algorithm='auto')\n",
        "\n",
        "#### Attributes:\n",
        "\n",
        "cluster_centers_ndarray of shape (n_clusters, n_features)\n",
        "Coordinates of cluster centers. If the algorithm stops before fully converging (see tol and max_iter), these will not be consistent with labels_.\n",
        "\n",
        "labels_ndarray of shape (n_samples,)\n",
        "Labels of each point\n",
        "\n",
        "inertia_float\n",
        "Sum of squared distances of samples to their closest cluster center, weighted by the sample weights if provided.\n",
        "\n",
        "n_iter_int\n",
        "Number of iterations run.\n",
        "\n",
        "n_features_in_int\n",
        "Number of features seen during fit.\n",
        "\n",
        "New in version 0.24.\n",
        "\n",
        "feature_names_in_ndarray of shape (n_features_in_,)\n",
        "Names of features seen during fit. Defined only when X has feature names that are all strings.\n",
        "\n",
        "source:\n",
        "https://scikit-learn.org/stable/modules/generated/sklearn.cluster.KMeans.html?highlight=kmeans#sklearn.cluster.KMeans"
      ]
    },
    {
      "cell_type": "markdown",
      "metadata": {
        "id": "QWtZg1tYN7eT"
      },
      "source": [
        "### PARAMETROS DO train_test_split:\n",
        "\n",
        "sklearn.model_selection.train_test_split(*arrays, test_size=None, train_size=None, random_state=None, shuffle=True, stratify=None)\n",
        "\n",
        "source:\n",
        "https://scikit-learn.org/stable/modules/generated/sklearn.model_selection.train_test_split.html?highlight=train#sklearn.model_selection.train_test_split"
      ]
    },
    {
      "cell_type": "markdown",
      "metadata": {
        "id": "EHRMzkv6N7eT"
      },
      "source": [
        "### PARAMETROS DO  PCA:\n",
        "\n",
        "class sklearn.decomposition.PCA(n_components=None, *, copy=True, whiten=False, svd_solver='auto', tol=0.0, iterated_power='auto', random_state=None)\n",
        "\n",
        "source:\n",
        "https://scikit-learn.org/stable/modules/generated/sklearn.decomposition.PCA.html?highlight=pca#sklearn.decomposition.PCA"
      ]
    },
    {
      "cell_type": "markdown",
      "metadata": {
        "id": "nOpNKvS8N7eT"
      },
      "source": [
        "### PARAMETROS DO silhouette_score:\n",
        "\n",
        "sklearn.metrics.silhouette_score(X, labels, *, metric='euclidean', sample_size=None, random_state=None, **kwds)\n",
        "\n",
        "source:\n",
        "https://scikit-learn.org/stable/modules/generated/sklearn.metrics.silhouette_score.html?highlight=silhouette#sklearn.metrics.silhouette_score"
      ]
    },
    {
      "cell_type": "code",
      "execution_count": null,
      "metadata": {
        "id": "0ei_a6LGN7eU"
      },
      "outputs": [],
      "source": [
        "# Capturar amostra dos valores do dataset\n",
        "amostra = df.sample(frac = 0.05, random_state = 590)\n",
        "k_values = amostra.values"
      ]
    },
    {
      "cell_type": "code",
      "execution_count": null,
      "metadata": {
        "id": "8pRLOrjsN7eU"
      },
      "outputs": [],
      "source": [
        "# Criar objeto PCA com 2 componentes e treiná-lo\n",
        "# É possível escolher o valor para n_components, mas como saberia qual o melhor valor?\n",
        "\n",
        "pca_2 = PCA(n_components = 2)\n",
        "pca = pca_2.fit_transform(k_values)"
      ]
    },
    {
      "cell_type": "code",
      "execution_count": null,
      "metadata": {
        "id": "rJNBmZCjN7eU",
        "outputId": "174daec5-9e5e-442e-daaf-9e9d01bba72e"
      },
      "outputs": [
        {
          "data": {
            "text/plain": [
              "array([0.49094914, 0.23770721])"
            ]
          },
          "execution_count": 20,
          "metadata": {},
          "output_type": "execute_result"
        }
      ],
      "source": [
        "# Taxa de variancia explicada\n",
        "# A taxa de variancia explicada significa que 49.1% da variancia da massa de dados está al longo do eixo 1(pca1), \n",
        "# e que 23.77% está ao longo do eixo 2(pca2)\n",
        "\n",
        "# Caso tivéssemos mais pcas (n_components > 2), haveria mais taxas de variancia.\n",
        "\n",
        "pca_2.explained_variance_ratio_"
      ]
    },
    {
      "cell_type": "code",
      "execution_count": null,
      "metadata": {
        "id": "kqUHNFYtN7eV",
        "outputId": "052760f5-c45e-4d06-ae95-88506be85099"
      },
      "outputs": [
        {
          "data": {
            "text/plain": [
              "array([0.49094914, 0.23770721, 0.19472779])"
            ]
          },
          "execution_count": 21,
          "metadata": {},
          "output_type": "execute_result"
        }
      ],
      "source": [
        "# Observe para n_components = 3\n",
        "\n",
        "pca_3 = PCA(n_components = 3)\n",
        "pca_v3 = pca_3.fit_transform(k_values)\n",
        "pca_3.explained_variance_ratio_"
      ]
    },
    {
      "cell_type": "code",
      "execution_count": null,
      "metadata": {
        "id": "ygA_5GFKN7eV"
      },
      "outputs": [],
      "source": [
        "# Outra opção seria criar um gráfico que ajudasse com a escolha do numeros de componentes\n",
        "\n",
        "# Criar um objeto PCA com parametros padrão\n",
        "pca = PCA()\n",
        "\n",
        "# Treinar o pca\n",
        "pca.fit(k_values)\n",
        "\n",
        "# Criar objeto que acumule a soma das taxas de variancia explicada\n",
        "pca_cumsum = np.cumsum(pca.explained_variance_ratio_)\n",
        "\n",
        "# Criar um objeto que preserve 95% da variancia\n",
        "c = np.argmax(pca_cumsum >= 0.95) + 1"
      ]
    },
    {
      "cell_type": "code",
      "execution_count": null,
      "metadata": {
        "id": "66pqQ58fN7eV",
        "outputId": "8bebf6bb-66ff-4616-9db5-79aa12402c51"
      },
      "outputs": [
        {
          "data": {
            "text/plain": [
              "4"
            ]
          },
          "execution_count": 23,
          "metadata": {},
          "output_type": "execute_result"
        }
      ],
      "source": [
        "# Número máximo de componentes para 95% de variancia preservada\n",
        "c"
      ]
    },
    {
      "cell_type": "code",
      "execution_count": null,
      "metadata": {
        "id": "6s55IhiBN7eV",
        "outputId": "2ecc89ed-de1e-4d99-9c36-952db4172f27"
      },
      "outputs": [
        {
          "data": {
            "image/png": "[encoded data removed]",
            "text/plain": [
              "<Figure size 1152x576 with 1 Axes>"
            ]
          },
          "metadata": {
            "needs_background": "light"
          },
          "output_type": "display_data"
        }
      ],
      "source": [
        "# Observe que em torno de 95% o número de componentesa está entre 2 e 3, sendo 2 o mais próximo dos 95% de variancias\n",
        "# Portanto, eu decidirei por usar n_components = 2\n",
        "\n",
        "plt.figure(figsize = (16,8))\n",
        "\n",
        "plt.plot(pca_cumsum, color = 'red')\n",
        "plt.xlabel('Taxa da Variancia Explicada')\n",
        "plt.ylabel('Número de Componentes')\n",
        "plt.title('Relação Taxa de Variancia e N_components')\n",
        "plt.show()\n",
        "    "
      ]
    },
    {
      "cell_type": "code",
      "execution_count": null,
      "metadata": {
        "id": "bel9ODW-N7eW"
      },
      "outputs": [],
      "source": [
        "# Aplicando o número de componentes preferido = 2\n",
        "\n",
        "pca_4 = PCA(n_components = 2, random_state = 590)\n",
        "pca = pca_4.fit_transform(k_values)"
      ]
    },
    {
      "cell_type": "code",
      "execution_count": null,
      "metadata": {
        "id": "Zg8fbIAkN7eW",
        "outputId": "b9e63b34-c0af-41de-cf53-57ddd69bcdc8"
      },
      "outputs": [
        {
          "name": "stdout",
          "output_type": "stream",
          "text": [
            "[0.49094914 0.23770721]\n",
            "\n",
            "[[ 0.09585401  0.00201449 -0.13683982  0.39955923  0.22759769  0.18329746\n",
            "   0.85266439]\n",
            " [ 0.05960721  0.00252272 -0.0880116   0.25949635  0.72986968  0.44797148\n",
            "  -0.43355278]]\n",
            "\n"
          ]
        }
      ],
      "source": [
        "# Taxa de variancia explicada\n",
        "print(pca_2.explained_variance_ratio_)\n",
        "print('')\n",
        "\n",
        "# Valores dos componentes para 2 componentes\n",
        "print(pca_4.components_)\n",
        "print('')"
      ]
    },
    {
      "cell_type": "code",
      "execution_count": null,
      "metadata": {
        "id": "w0Qy4WjmN7eW",
        "outputId": "3a5c34df-c75f-4d04-d321-9e528ec8d163"
      },
      "outputs": [
        {
          "data": {
            "image/png": "[encoded data removed]",
            "text/plain": [
              "<Figure size 864x576 with 1 Axes>"
            ]
          },
          "metadata": {
            "needs_background": "light"
          },
          "output_type": "display_data"
        }
      ],
      "source": [
        "# Plotagem dos componentes derivados do pca\n",
        "plt.figure(figsize = (12,8))\n",
        "sb.scatterplot(pca[:, 0], pca[:, 1], marker =True)\n",
        "plt.title('Distribuição dos Componentes - PCA')\n",
        "plt.xlabel('PCA-1')\n",
        "plt.ylabel('PCA-2')\n",
        "plt.show()"
      ]
    },
    {
      "cell_type": "code",
      "execution_count": null,
      "metadata": {
        "id": "UtPAZV4QN7eW",
        "outputId": "cffe74f9-0c55-4087-8810-408d59838064"
      },
      "outputs": [
        {
          "name": "stdout",
          "output_type": "stream",
          "text": [
            "3 6058585.61077738\n",
            "4 3127522.3702552775\n",
            "5 2771460.574425777\n",
            "6 2541719.953431295\n",
            "7 2334921.839346111\n",
            "8 2230269.7296320004\n",
            "9 2061279.553826587\n",
            "10 1915091.4571496926\n",
            "11 1741177.8736288203\n",
            "12 1861801.91335733\n",
            "13 1731890.250264119\n",
            "14 1646889.2548191724\n",
            "15 1474728.9759015301\n",
            "16 1588132.9632711643\n",
            "17 1396658.0627629492\n",
            "\n",
            "0.4610824346542358 minutos\n"
          ]
        },
        {
          "data": {
            "image/png": "[encoded data removed]",
            "text/plain": [
              "<Figure size 720x576 with 1 Axes>"
            ]
          },
          "metadata": {
            "needs_background": "light"
          },
          "output_type": "display_data"
        }
      ],
      "source": [
        "# Criar gráfico Elbow para verificar os melhores agrupamentos, levando em consideração a soma dos quadrados dentro dos grupos\n",
        "# wcss: within cluster sum of squared (soma dos quadrado dentro dos clusters)\n",
        "# inertia_: somatório dos erros quadrados\n",
        "\n",
        "import time\n",
        "inicio = time.time() \n",
        "\n",
        "wcss =[]\n",
        "for i in range(3,18):\n",
        "    km = KMeans(n_clusters=i, init='random')\n",
        "    km.fit_transform(k_values)\n",
        "    wcss.append(km.inertia_)\n",
        "    print(i, km.inertia_)\n",
        "\n",
        "fim = time.time()\n",
        "print('')\n",
        "print((fim - inicio)/60, 'minutos')\n",
        "\n",
        "plt.figure(figsize=(10,8))\n",
        "plt.plot(range(3,18), wcss, color = 'red')\n",
        "plt.title('Avaliação dos melhores agrupamentos')\n",
        "plt.xlabel('Número de Clusters')\n",
        "plt.ylabel('wcss')\n",
        "plt.show()"
      ]
    },
    {
      "cell_type": "markdown",
      "metadata": {
        "id": "awMjy8nVN7eX"
      },
      "source": [
        "### <font color = '#0000FF'>Invertigar com análise de 7, 8, 10 agrupamentos<font/>\n",
        "#### A ideia é ver se o aumento cria novos grupos bem definidos ou um aglomerado de agrupamentos sem sentido aparente"
      ]
    },
    {
      "cell_type": "markdown",
      "metadata": {
        "id": "v1qqwFPNN7eX"
      },
      "source": [
        "### Versão para 7 grupos"
      ]
    },
    {
      "cell_type": "code",
      "execution_count": null,
      "metadata": {
        "id": "DtMg-sHNN7eX",
        "outputId": "0ba3c738-41ab-4a5f-c996-dbdf82cc0d2f"
      },
      "outputs": [
        {
          "data": {
            "text/plain": [
              "Text(0, 0.5, 'PCA-2')"
            ]
          },
          "execution_count": 29,
          "metadata": {},
          "output_type": "execute_result"
        },
        {
          "data": {
            "image/png": "[encoded data removed]",
            "text/plain": [
              "<Figure size 864x576 with 1 Axes>"
            ]
          },
          "metadata": {
            "needs_background": "light"
          },
          "output_type": "display_data"
        }
      ],
      "source": [
        "# treina o modelo com KMeans para 7 agrupamentos\n",
        "modelo_7 = KMeans(n_clusters=7, random_state=590, init='random')\n",
        "modelo_7.fit_transform(pca)\n",
        "\n",
        "\n",
        "# Verificar os centróides: marcadores para as variâncias\n",
        "centros_7 = modelo_7.cluster_centers_\n",
        "\n",
        "# Verificar os grupos para kmeans = 7\n",
        "plt.figure(figsize=(12,8))\n",
        "plt.scatter(pca[:, 0], pca[:, 1], color = 'y')\n",
        "plt.scatter(centros_7[:, 0], centros_7[:, 1], marker = 'x', s = 150, linewidths=5)\n",
        "plt.title('7 Clusters De Consumo de Energia')\n",
        "plt.xlabel('PCA-1')\n",
        "plt.ylabel('PCA-2')"
      ]
    },
    {
      "cell_type": "code",
      "execution_count": null,
      "metadata": {
        "id": "ZxBziFw4N7eX",
        "outputId": "091b56fe-3534-45bb-dfbf-f507c2e2c1bf"
      },
      "outputs": [
        {
          "name": "stdout",
          "output_type": "stream",
          "text": [
            "0.7966189726929142\n",
            "\n",
            "138.11546301841736 segundos\n"
          ]
        }
      ],
      "source": [
        "# Avaliação do modelo_v1\n",
        "inicio = time.time()\n",
        "\n",
        "labels = modelo_7.labels_\n",
        "ss7 = silhouette_score(X = pca, labels = labels)\n",
        "\n",
        "fim = time.time()\n",
        "print(ss7)\n",
        "print('')\n",
        "print(fim - inicio, 'segundos')"
      ]
    },
    {
      "cell_type": "markdown",
      "metadata": {
        "id": "95rxftDBN7eY"
      },
      "source": [
        "### Versão para 8 grupos"
      ]
    },
    {
      "cell_type": "code",
      "execution_count": null,
      "metadata": {
        "id": "xzmDKkxZN7eY",
        "outputId": "480e9766-9de3-4abe-9f60-2e8d7ad2b306"
      },
      "outputs": [
        {
          "data": {
            "text/plain": [
              "Text(0, 0.5, 'PCA-2')"
            ]
          },
          "execution_count": 31,
          "metadata": {},
          "output_type": "execute_result"
        },
        {
          "data": {
            "image/png": "[encoded data removed]",
            "text/plain": [
              "<Figure size 864x576 with 1 Axes>"
            ]
          },
          "metadata": {
            "needs_background": "light"
          },
          "output_type": "display_data"
        }
      ],
      "source": [
        "# treina o modelo com KMeans para 8 agrupamentos\n",
        "modelo_8 = KMeans(n_clusters=8, random_state=590, init='random', )\n",
        "modelo_8.fit_transform(pca)\n",
        "\n",
        "\n",
        "# Verificar os centróides: marcadores para as variâncias\n",
        "centros_8 = modelo_8.cluster_centers_\n",
        "\n",
        "# Verificar os grupos para kmeans = 8\n",
        "plt.figure(figsize=(12,8))\n",
        "plt.scatter(pca[:, 0], pca[:, 1])\n",
        "plt.scatter(centros_8[:, 0], centros_8[:, 1], marker = 'x', s = 150, linewidths=5)\n",
        "plt.title('8 Clusters De Consumo de Energia')\n",
        "plt.xlabel('PCA-1')\n",
        "plt.ylabel('PCA-2')"
      ]
    },
    {
      "cell_type": "code",
      "execution_count": null,
      "metadata": {
        "id": "l_mWoRt6N7eY",
        "outputId": "43940866-5724-4942-d14c-82833b18cb3b"
      },
      "outputs": [
        {
          "name": "stdout",
          "output_type": "stream",
          "text": [
            "0.6831657194907933\n",
            "\n",
            "137.41171383857727 segundos\n"
          ]
        }
      ],
      "source": [
        "# Avaliação do modelo_v1\n",
        "inicio = time.time()\n",
        "\n",
        "labels = modelo_8.labels_\n",
        "ss8 = silhouette_score(X = pca, labels = labels)\n",
        "\n",
        "fim = time.time()\n",
        "print(ss8)\n",
        "print('')\n",
        "print(fim - inicio, 'segundos')"
      ]
    },
    {
      "cell_type": "markdown",
      "metadata": {
        "id": "MxXzttQpN7eY"
      },
      "source": [
        "### Versão para 10 grupos"
      ]
    },
    {
      "cell_type": "code",
      "execution_count": null,
      "metadata": {
        "id": "wSJ5SJyIN7eZ",
        "outputId": "7689cf68-b307-4bc4-f0bb-7d98ea02afaa"
      },
      "outputs": [
        {
          "data": {
            "text/plain": [
              "Text(0, 0.5, 'PCA-2')"
            ]
          },
          "execution_count": 33,
          "metadata": {},
          "output_type": "execute_result"
        },
        {
          "data": {
            "image/png": "[encoded data removed]",
            "text/plain": [
              "<Figure size 864x576 with 1 Axes>"
            ]
          },
          "metadata": {
            "needs_background": "light"
          },
          "output_type": "display_data"
        }
      ],
      "source": [
        "# treina o modelo com KMeans para 10 agrupamentos\n",
        "modelo_10 = KMeans(n_clusters=16, random_state=590, init='random')\n",
        "modelo_10.fit_transform(pca)\n",
        "\n",
        "\n",
        "# Verificar os centróides: marcadores para as variâncias\n",
        "centros_10 = modelo_10.cluster_centers_\n",
        "\n",
        "# Verificar os grupos para kmeans = 10\n",
        "plt.figure(figsize=(12,8))\n",
        "plt.scatter(pca[:, 0], pca[:, 1], color = 'purple')\n",
        "plt.scatter(centros_10[:, 0], centros_10[:, 1], marker = 'x', color = 'yellow', s = 150, linewidths=5)\n",
        "plt.title('10 Clusters De Consumo de Energia')\n",
        "plt.xlabel('PCA-1')\n",
        "plt.ylabel('PCA-2')"
      ]
    },
    {
      "cell_type": "code",
      "execution_count": null,
      "metadata": {
        "id": "kD1NIHIMN7eZ",
        "outputId": "7e9eb8d0-bc2c-4602-caba-80dc4eeac8f6"
      },
      "outputs": [
        {
          "name": "stdout",
          "output_type": "stream",
          "text": [
            "0.4217707409244463\n",
            "\n",
            "130.53163146972656 segundos\n"
          ]
        }
      ],
      "source": [
        "# Avaliação do modelo_v4\n",
        "inicio = time.time()\n",
        "\n",
        "labels = modelo_10.labels_\n",
        "ss10 = silhouette_score(X = pca, labels = labels)\n",
        "\n",
        "fim = time.time()\n",
        "print(ss10)\n",
        "print('')\n",
        "print(fim - inicio, 'segundos')"
      ]
    },
    {
      "cell_type": "markdown",
      "metadata": {
        "id": "NMwlIAR8N7eZ"
      },
      "source": [
        "### Comparação dos modelos"
      ]
    },
    {
      "cell_type": "code",
      "execution_count": null,
      "metadata": {
        "id": "gSyW2YWhN7eZ",
        "outputId": "90210b4c-c543-4d94-ff82-6f783dcd62e7"
      },
      "outputs": [
        {
          "data": {
            "text/html": [
              "<div>\n",
              "<style scoped>\n",
              "    .dataframe tbody tr th:only-of-type {\n",
              "        vertical-align: middle;\n",
              "    }\n",
              "\n",
              "    .dataframe tbody tr th {\n",
              "        vertical-align: top;\n",
              "    }\n",
              "\n",
              "    .dataframe thead th {\n",
              "        text-align: right;\n",
              "    }\n",
              "</style>\n",
              "<table border=\"1\" class=\"dataframe\">\n",
              "  <thead>\n",
              "    <tr style=\"text-align: right;\">\n",
              "      <th></th>\n",
              "      <th>modelos</th>\n",
              "      <th>clusters</th>\n",
              "      <th>silhouette</th>\n",
              "    </tr>\n",
              "  </thead>\n",
              "  <tbody>\n",
              "    <tr>\n",
              "      <th>0</th>\n",
              "      <td>modelo_7</td>\n",
              "      <td>sete</td>\n",
              "      <td>0.796619</td>\n",
              "    </tr>\n",
              "    <tr>\n",
              "      <th>1</th>\n",
              "      <td>modelo_8</td>\n",
              "      <td>oito</td>\n",
              "      <td>0.683166</td>\n",
              "    </tr>\n",
              "    <tr>\n",
              "      <th>2</th>\n",
              "      <td>modelo_10</td>\n",
              "      <td>dez</td>\n",
              "      <td>0.421771</td>\n",
              "    </tr>\n",
              "  </tbody>\n",
              "</table>\n",
              "</div>"
            ],
            "text/plain": [
              "     modelos clusters  silhouette\n",
              "0   modelo_7     sete    0.796619\n",
              "1   modelo_8     oito    0.683166\n",
              "2  modelo_10      dez    0.421771"
            ]
          },
          "execution_count": 35,
          "metadata": {},
          "output_type": "execute_result"
        }
      ],
      "source": [
        "ss = ({'modelos':('modelo_7', 'modelo_8', 'modelo_10'),\n",
        "       'silhouette':(ss7, ss8, ss10),\n",
        "      'clusters':('sete', 'oito','dez')})\n",
        "compara = pd.DataFrame(data = ss, columns = ['modelos', 'clusters','silhouette'])\n",
        "compara"
      ]
    },
    {
      "cell_type": "markdown",
      "metadata": {
        "id": "oL-gsPC4N7ea"
      },
      "source": [
        "## <font color = '0000FF'>CONSIDERAÇÕES FINAIS<font/>\n",
        "## O uso do PCA ao dividir o dataset em dois componentes auxiliou na implementação do KMeans.\n",
        "## O uso do gráfico de elbow foi fundamental para a primeira análise de clusters, o que apresentou as melhores opções de agrupamento para o uso do KMeans.\n",
        "## O modelo KMeans com 7 agrupamentos apresentou melhor opção, tanto na análise visual quanto na métrica silhouette com 79,66%.\n",
        "## Os modelos com 8 e 10 agrupamentos apresentaram centróides muito próximos, causando indeterminação, até mesmo sobreposição de centroídes, entre os grupos.\n",
        "## Sendo assim, é possível analisar o modelo com sete agrupamentos com mais profundidade, sobre quanto ao comportamento de consumo de energia, sobre ofertas personalizadas e outras abordagens de marketing."
      ]
    },
    {
      "cell_type": "code",
      "execution_count": null,
      "metadata": {
        "id": "Qqq8yui8N7ea",
        "outputId": "66466366-8be6-489c-c1d2-029f560bf9e6"
      },
      "outputs": [
        {
          "data": {
            "image/png": "[encoded data removed]",
            "text/plain": [
              "<Figure size 864x576 with 1 Axes>"
            ]
          },
          "metadata": {
            "needs_background": "light"
          },
          "output_type": "display_data"
        }
      ],
      "source": [
        "# Para melhorar visualização dos agrupamentos pode-se usar o meshgrig\n",
        "# MESHGRID\n",
        "h = 0.02\n",
        "x_min, x_max = pca[:, 0].min() - 10, pca[:, 1].max() + 10\n",
        "y_min, y_max = pca[:, 0].min() -10, pca[:, 1].max() + 10\n",
        "\n",
        "xx, yy = np.meshgrid(np.arange(x_min, x_max, h), np.arange(y_min, y_max, h))\n",
        "Z = modelo_7.predict(np.c_[xx.ravel(), yy.ravel()])\n",
        "\n",
        "plt.figure(1, figsize = (12,8))\n",
        "plt.clf()\n",
        "Z = Z.reshape(xx.shape)\n",
        "\n",
        "# IMAGEM\n",
        "plt.imshow(Z, \n",
        "           interpolation = 'nearest', \n",
        "           extent = (xx.min(), xx.max(), yy.min(), yy.max()),\n",
        "           cmap = plt.cm.Set3, \n",
        "           aspect = 'auto', \n",
        "           origin = 'lower')\n",
        "plt.scatter(x = centros_7[:, 0], y = centros_7[:, 1], marker = 'x', s = 150, linewidths= 3)\n",
        "plt.xlabel('PCA 1')\n",
        "plt.ylabel('PCA 2')\n",
        "plt.title('Distribuição em Sete Agrupamentos')\n",
        "plt.show()"
      ]
    },
    {
      "cell_type": "markdown",
      "metadata": {
        "id": "JsO2UUtIN7ea"
      },
      "source": [
        "# FIM"
      ]
    }
  ],
  "metadata": {
    "anaconda-cloud": {},
    "kernelspec": {
      "display_name": "Python 3",
      "language": "python",
      "name": "python3"
    },
    "language_info": {
      "codemirror_mode": {
        "name": "ipython",
        "version": 3
      },
      "file_extension": ".py",
      "mimetype": "text/x-python",
      "name": "python",
      "nbconvert_exporter": "python",
      "pygments_lexer": "ipython3",
      "version": "3.7.6"
    },
    "colab": {
      "name": "Clustering_alg.ipynb",
      "provenance": [],
      "include_colab_link": true
    }
  },
  "nbformat": 4,
  "nbformat_minor": 0
}