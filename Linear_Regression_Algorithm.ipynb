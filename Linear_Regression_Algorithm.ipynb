{
  "cells": [
    {
      "cell_type": "markdown",
      "metadata": {
        "id": "view-in-github",
        "colab_type": "text"
      },
      "source": [
        "<a href=\"https://colab.research.google.com/github/Dieljr/README/blob/main/Linear_Regression_Algorithm.ipynb\" target=\"_parent\"><img src=\"https://colab.research.google.com/assets/colab-badge.svg\" alt=\"Open In Colab\"/></a>"
      ]
    },
    {
      "cell_type": "markdown",
      "metadata": {
        "id": "ijYdly6RKGgg"
      },
      "source": [
        "# Conteúdo para aulas online\n",
        "## Primeiro Notebook: Linear Regression"
      ]
    },
    {
      "cell_type": "markdown",
      "metadata": {
        "id": "q3bvxsEkKGgl"
      },
      "source": [
        "### O Objetivo desse notebook é o de apresentar recursos intermediários a avançados sobre o Algoritmo Linear Regression do SKLearn, da classe dos modelos linearers (Linear Model)."
      ]
    },
    {
      "cell_type": "markdown",
      "metadata": {
        "id": "4hxJAkclKGgm"
      },
      "source": [
        "### <font color = '#CD5C5C'>OBJETIVO DA REGRESSÃO LINEAR:</font>\n",
        "Seu objetivo é traçar um relação entre a variável target e as variáveis preditoras.\n",
        "Os problemas a serem evitados são as variáveis que não são preditoras e quais causam multicolinearidade.\n",
        "\n",
        "Na verdade, esse é o algoritmo mais simples dentre os da classe de regressão do sklearn.\n",
        "\n",
        "### <font color = '#CD5C5C'>1. Source:</font> \n",
        "a) https://scikit-learn.org/stable/modules/linear_model.html#linear-model\n",
        "\n",
        "b) https://www.amazon.com.br/M%C3%A3os-obra-aprendizado-Scikit-Learn-inteligentes/dp/8550815489/ref=sr_1_1?crid=2JG8SYAU8K3UQ&keywords=tensorflow&qid=1646567493&s=books&sprefix=tensort+flow%2Cstripbooks%2C229&sr=1-1&ufe=app_do%3Aamzn1.fos.6d798eae-cadf-45de-946a-f477d47705b9\n",
        "\n",
        "c) https://www.amazon.com.br/An%C3%A1lise-Dados-com-Python-Pandas/dp/8575226991/ref=sr_1_1?__mk_pt_BR=%C3%85M%C3%85%C5%BD%C3%95%C3%91&keywords=analise+de+dados+com+python&qid=1646671469&sr=8-1&ufe=app_do%3Aamzn1.fos.6d798eae-cadf-45de-946a-f477d47705b9\n",
        "\n",
        "\n",
        "### <font color = '#CD5C5C'>2. Fórmula:</font>\n",
        "y^(w,x)=w0+w1x1+...+wpxp (sklearn)\n",
        "\n",
        "LM busca minimizar a RMSE ( Root Mean Squared Error), isto é, encontrar o w que minimize Raiz do Erro Quadrado Médio.\n",
        "\n",
        "\n",
        "### <font color = '#CD5C5C'>3. Parametros ou hiperparametros:</font>\n",
        "Para você que está começando, pode parecer estranho e confuso, mas é assim que a comunidade em Ciência de Dados se refere ajustadores dos algoritmos de machine learning. Então, vá se acostumando!\n",
        "Irei apresentar somente os mais importantes parametros que o ajudará no seu dia-a-dia como cientista de dados.\n",
        "\n",
        "class sklearn.linear_model.LinearRegression(*, fit_intercept=True, normalize='deprecated', copy_X=True, n_jobs=None, positive=False):\n",
        "\n",
        "a) normalize: está obsoleto desde a versão 1.0;\n",
        "\n",
        "b) n_jobs: diz respeito ao uso dos núcleos da CPU e exige conhecimento intermediário sobre seu hardware e sobre seu trabalho com dados. Por padrão é None (nenhum) = 1. Se for especificado outro valor (sempre número inteiro) como -1 (todos os núcleos são usados) ou -2 (todos menos um) ou -3 (todos menos dois) etc. A escolha desses valores pode otimizar o processamento.\n",
        "\n",
        "\n",
        "Atributos: ou o que se pode extrair do algoritmo depois que ele for usado. Melhor do que explicá-los aqui (teoria), é apresentá-los na prática!"
      ]
    },
    {
      "cell_type": "markdown",
      "metadata": {
        "id": "pt7QzngdKGgn"
      },
      "source": [
        "## NA PRÁTICA:"
      ]
    },
    {
      "cell_type": "code",
      "execution_count": null,
      "metadata": {
        "id": "OnQ6UQv1KGgo"
      },
      "outputs": [],
      "source": [
        "# Carregar pacotes\n",
        "\n",
        "import numpy as np\n",
        "import pandas as pd\n",
        "\n",
        "import matplotlib.pyplot as plt\n",
        "import matplotlib as mpl\n",
        "import seaborn as sb\n",
        "\n",
        "import sys\n",
        "\n",
        "from sklearn.linear_model import LinearRegression\n",
        "\n",
        "from sklearn.preprocessing import StandardScaler\n",
        "\n",
        "from sklearn.model_selection import train_test_split"
      ]
    },
    {
      "cell_type": "code",
      "execution_count": null,
      "metadata": {
        "id": "cViSl6boKGgp",
        "outputId": "24fc9216-671b-40bb-e1d1-11e3e03071c8"
      },
      "outputs": [
        {
          "name": "stdout",
          "output_type": "stream",
          "text": [
            "3.7.6 (default, Jan  8 2020, 20:23:39) [MSC v.1916 64 bit (AMD64)]\n"
          ]
        }
      ],
      "source": [
        "# Veja a versão do seu Python\n",
        "print(sys.version)"
      ]
    },
    {
      "cell_type": "code",
      "execution_count": null,
      "metadata": {
        "id": "qV0N1pynKGgr",
        "outputId": "27ab8512-f71a-40d3-e496-1b720664d1ef"
      },
      "outputs": [
        {
          "name": "stdout",
          "output_type": "stream",
          "text": [
            "<class 'pandas.core.frame.DataFrame'>\n",
            "RangeIndex: 406 entries, 0 to 405\n",
            "Data columns (total 9 columns):\n",
            " #   Column        Non-Null Count  Dtype  \n",
            "---  ------        --------------  -----  \n",
            " 0   mpg           398 non-null    float64\n",
            " 1   cylinders     406 non-null    float64\n",
            " 2   displacement  406 non-null    float64\n",
            " 3   horsepower    400 non-null    float64\n",
            " 4   weight        406 non-null    float64\n",
            " 5   accelaration  406 non-null    float64\n",
            " 6   model_year    406 non-null    float64\n",
            " 7   origin        1 non-null      object \n",
            " 8   car_name      0 non-null      float64\n",
            "dtypes: float64(8), object(1)\n",
            "memory usage: 28.7+ KB\n"
          ]
        }
      ],
      "source": [
        "# Carregar dataset\n",
        "df = pd.read_csv('mpg.csv', sep = ';', names=['mpg', 'cylinders', 'displacement', 'horsepower', 'weight', 'accelaration',\n",
        "                                              'model_year', 'origin', 'car_name'])\n",
        "df.info()"
      ]
    },
    {
      "cell_type": "markdown",
      "metadata": {
        "id": "0mR-p4sjKGgs"
      },
      "source": [
        "### Pequenos ajustes"
      ]
    },
    {
      "cell_type": "code",
      "execution_count": null,
      "metadata": {
        "id": "H34YFqgnKGgs"
      },
      "outputs": [],
      "source": [
        "# Não precisaremos das duas últimas colunas\n",
        "del df['origin']\n",
        "del df['car_name']"
      ]
    },
    {
      "cell_type": "code",
      "execution_count": null,
      "metadata": {
        "id": "2S_0mvL2KGgt",
        "outputId": "2ccfd4b0-1dc8-4c05-a42f-67a7b1375cd7"
      },
      "outputs": [
        {
          "data": {
            "text/html": [
              "<div>\n",
              "<style scoped>\n",
              "    .dataframe tbody tr th:only-of-type {\n",
              "        vertical-align: middle;\n",
              "    }\n",
              "\n",
              "    .dataframe tbody tr th {\n",
              "        vertical-align: top;\n",
              "    }\n",
              "\n",
              "    .dataframe thead th {\n",
              "        text-align: right;\n",
              "    }\n",
              "</style>\n",
              "<table border=\"1\" class=\"dataframe\">\n",
              "  <thead>\n",
              "    <tr style=\"text-align: right;\">\n",
              "      <th></th>\n",
              "      <th>mpg</th>\n",
              "      <th>cylinders</th>\n",
              "      <th>displacement</th>\n",
              "      <th>horsepower</th>\n",
              "      <th>weight</th>\n",
              "      <th>accelaration</th>\n",
              "      <th>model_year</th>\n",
              "    </tr>\n",
              "  </thead>\n",
              "  <tbody>\n",
              "    <tr>\n",
              "      <th>0</th>\n",
              "      <td>18.0</td>\n",
              "      <td>8.0</td>\n",
              "      <td>307.0</td>\n",
              "      <td>130.0</td>\n",
              "      <td>3504.0</td>\n",
              "      <td>12.0</td>\n",
              "      <td>70.0</td>\n",
              "    </tr>\n",
              "    <tr>\n",
              "      <th>1</th>\n",
              "      <td>15.0</td>\n",
              "      <td>8.0</td>\n",
              "      <td>350.0</td>\n",
              "      <td>165.0</td>\n",
              "      <td>3693.0</td>\n",
              "      <td>11.5</td>\n",
              "      <td>70.0</td>\n",
              "    </tr>\n",
              "    <tr>\n",
              "      <th>2</th>\n",
              "      <td>18.0</td>\n",
              "      <td>8.0</td>\n",
              "      <td>318.0</td>\n",
              "      <td>150.0</td>\n",
              "      <td>3436.0</td>\n",
              "      <td>11.0</td>\n",
              "      <td>70.0</td>\n",
              "    </tr>\n",
              "    <tr>\n",
              "      <th>3</th>\n",
              "      <td>16.0</td>\n",
              "      <td>8.0</td>\n",
              "      <td>304.0</td>\n",
              "      <td>150.0</td>\n",
              "      <td>3433.0</td>\n",
              "      <td>12.0</td>\n",
              "      <td>70.0</td>\n",
              "    </tr>\n",
              "    <tr>\n",
              "      <th>4</th>\n",
              "      <td>17.0</td>\n",
              "      <td>8.0</td>\n",
              "      <td>302.0</td>\n",
              "      <td>140.0</td>\n",
              "      <td>3449.0</td>\n",
              "      <td>10.5</td>\n",
              "      <td>70.0</td>\n",
              "    </tr>\n",
              "  </tbody>\n",
              "</table>\n",
              "</div>"
            ],
            "text/plain": [
              "    mpg  cylinders  displacement  horsepower  weight  accelaration  model_year\n",
              "0  18.0        8.0         307.0       130.0  3504.0          12.0        70.0\n",
              "1  15.0        8.0         350.0       165.0  3693.0          11.5        70.0\n",
              "2  18.0        8.0         318.0       150.0  3436.0          11.0        70.0\n",
              "3  16.0        8.0         304.0       150.0  3433.0          12.0        70.0\n",
              "4  17.0        8.0         302.0       140.0  3449.0          10.5        70.0"
            ]
          },
          "execution_count": 5,
          "metadata": {},
          "output_type": "execute_result"
        }
      ],
      "source": [
        "df.head()"
      ]
    },
    {
      "cell_type": "code",
      "execution_count": null,
      "metadata": {
        "id": "mBQgt_bFKGgu"
      },
      "outputs": [],
      "source": [
        "# Podemos descartar os valores missing\n",
        "df = df.dropna()"
      ]
    },
    {
      "cell_type": "code",
      "execution_count": null,
      "metadata": {
        "id": "oVGk6KthKGgv",
        "outputId": "63922982-7a86-41e4-f422-74ee8fea96b9"
      },
      "outputs": [
        {
          "name": "stdout",
          "output_type": "stream",
          "text": [
            "<class 'pandas.core.frame.DataFrame'>\n",
            "Int64Index: 392 entries, 0 to 405\n",
            "Data columns (total 7 columns):\n",
            " #   Column        Non-Null Count  Dtype  \n",
            "---  ------        --------------  -----  \n",
            " 0   mpg           392 non-null    float64\n",
            " 1   cylinders     392 non-null    float64\n",
            " 2   displacement  392 non-null    float64\n",
            " 3   horsepower    392 non-null    float64\n",
            " 4   weight        392 non-null    float64\n",
            " 5   accelaration  392 non-null    float64\n",
            " 6   model_year    392 non-null    float64\n",
            "dtypes: float64(7)\n",
            "memory usage: 24.5 KB\n"
          ]
        }
      ],
      "source": [
        "df.info()"
      ]
    },
    {
      "cell_type": "code",
      "execution_count": null,
      "metadata": {
        "id": "81E3vN7FKGgv",
        "outputId": "7b0e8e1b-229e-47b5-fabd-2014e1eaa1f0"
      },
      "outputs": [
        {
          "name": "stdout",
          "output_type": "stream",
          "text": [
            "(392, 6) (392,)\n"
          ]
        }
      ],
      "source": [
        "# Separar as variáveis para o algoritmo\n",
        "X = df.drop(['mpg'], axis = 1)\n",
        "y = df['mpg']\n",
        "\n",
        "# Ver os formatos\n",
        "print(X.shape, y.shape)"
      ]
    },
    {
      "cell_type": "code",
      "execution_count": null,
      "metadata": {
        "id": "qWJQk--2KGgv"
      },
      "outputs": [],
      "source": [
        "# Normalizar o conjunto das features, pois o algoritmo exige para dados não normalizados\n",
        "scale = StandardScaler()\n",
        "X_scale = scale.fit_transform(X)"
      ]
    },
    {
      "cell_type": "code",
      "execution_count": null,
      "metadata": {
        "id": "tTBwzlJ2KGgw"
      },
      "outputs": [],
      "source": [
        "# Dividir em dados treino e teste\n",
        "X_treino, X_teste, y_treino, y_teste = train_test_split(X_scale, y, test_size = 0.3, random_state = 100)"
      ]
    },
    {
      "cell_type": "markdown",
      "metadata": {
        "id": "83UXoFNNKGgw"
      },
      "source": [
        "### Não há muitas opções para hiperparametros, então o que veremos é a interpretação dos atributos:"
      ]
    },
    {
      "cell_type": "code",
      "execution_count": null,
      "metadata": {
        "id": "wGZFIG0HKGgw"
      },
      "outputs": [],
      "source": [
        "# Criar objeto LinearRegression\n",
        "lr = LinearRegression()\n",
        "\n",
        "# Treinar objeto\n",
        "model_lr = lr.fit(X_treino, y_treino)"
      ]
    },
    {
      "cell_type": "code",
      "execution_count": null,
      "metadata": {
        "id": "CvRUBtN1KGgx"
      },
      "outputs": [],
      "source": [
        "# Cria previsões\n",
        "predict_lr = lr.predict(X_teste)"
      ]
    },
    {
      "cell_type": "markdown",
      "metadata": {
        "id": "-hHQgbBKKGgx"
      },
      "source": [
        "### Compreendendo as atributos\n",
        "#### Os principais atributos que devem ser observados são: os coeficientes, o intercepto (y), e o R quadrado.\n",
        "### IMPORTANTE:\n",
        "#### <font color  = '#FF0033'>Ao final, deve-se fazer a avaliação de cada coeficiente</font>"
      ]
    },
    {
      "cell_type": "code",
      "execution_count": null,
      "metadata": {
        "id": "-ZOIhhThKGgx",
        "outputId": "4a55bccd-b503-4adb-c896-f65c64066d23"
      },
      "outputs": [
        {
          "name": "stdout",
          "output_type": "stream",
          "text": [
            "Com dados de treino atingiu um R squared de  80.95210048346138\n",
            "\n",
            "Com dados de teste atingiu um R squared de  79.75278702972504\n"
          ]
        }
      ],
      "source": [
        "# Avaliar o aprendizado pelo coeficiente de determinação (r2) com dados de treinamento\n",
        "print('Com dados de treino foi registrado um R squared de ', lr.score(X_treino, y_treino)*100)\n",
        "\n",
        "print('')\n",
        "\n",
        "print('Com dados de teste foi resgistrado um R squared de ',lr.score(X_teste, y_teste)*100)"
      ]
    },
    {
      "cell_type": "markdown",
      "metadata": {
        "id": "SagfPB5TKGgy"
      },
      "source": [
        "#### Os scores dos dados de treino e de teste apresentam resultados bem próximos!"
      ]
    },
    {
      "cell_type": "code",
      "execution_count": null,
      "metadata": {
        "id": "QSx8fBgPKGgy",
        "outputId": "61aa9a69-9395-453f-ce7e-94e7cee822e7"
      },
      "outputs": [
        {
          "name": "stdout",
          "output_type": "stream",
          "text": [
            "y é igual a 23.56144149999266 quando X é zero(0)\n"
          ]
        }
      ],
      "source": [
        "# Variável independente (intercept_): valor que cruza o eixo y.\n",
        "# A partir deste valor é que você encontra os valores de x em um plano cartesiano\n",
        "# É o valor multiplicador de previsão propriamente dito.\n",
        "\n",
        "print('y é igual a',model_lr.intercept_, 'quando X é zero(0)')"
      ]
    },
    {
      "cell_type": "code",
      "execution_count": null,
      "metadata": {
        "id": "qssv-mkbKGgy",
        "outputId": "5fd02546-2e50-48b8-97ff-ff1ed7c43b49"
      },
      "outputs": [
        {
          "data": {
            "image/png": "[encoded data removed]",
            "text/plain": [
              "<Figure size 720x576 with 1 Axes>"
            ]
          },
          "metadata": {
            "needs_background": "light"
          },
          "output_type": "display_data"
        }
      ],
      "source": [
        "# Observe o gráfico com dados novos, ele começa exatamente em y = 23.56\n",
        "novos = np.arange(0,50)\n",
        "\n",
        "plt.figure(figsize = (10,8))\n",
        "plt.plot(model_lr.intercept_ + novos)\n",
        "plt.xlabel('Valores Novos')\n",
        "plt.ylabel('Intercepto - Y')\n",
        "plt.ylim(-1,60)\n",
        "plt.xlim(-1,50)\n",
        "plt.title('Previsão com novos dados')\n",
        "plt.show()"
      ]
    },
    {
      "cell_type": "code",
      "execution_count": null,
      "metadata": {
        "id": "MxeDOXCCKGgz",
        "outputId": "11704d18-1e1b-4d5a-92db-ce7e4985fb70"
      },
      "outputs": [
        {
          "name": "stdout",
          "output_type": "stream",
          "text": [
            "[-0.3059865   1.24470127 -0.66207334 -5.76171678  0.39468473  2.75499322]\n"
          ]
        }
      ],
      "source": [
        "# Coeficiente estimado (coef_)\n",
        "# significa que a cada unidade aumentada de x, y aumenta 2,899.\n",
        "# Porem, não aparece os labels de cada coeficiente.\n",
        "\n",
        "print(model_lr.coef_)"
      ]
    },
    {
      "cell_type": "code",
      "execution_count": null,
      "metadata": {
        "id": "Me4X7J9SKGgz",
        "outputId": "5cd83079-0467-4ee0-a9c0-945d818dc60f"
      },
      "outputs": [
        {
          "data": {
            "text/html": [
              "<div>\n",
              "<style scoped>\n",
              "    .dataframe tbody tr th:only-of-type {\n",
              "        vertical-align: middle;\n",
              "    }\n",
              "\n",
              "    .dataframe tbody tr th {\n",
              "        vertical-align: top;\n",
              "    }\n",
              "\n",
              "    .dataframe thead th {\n",
              "        text-align: right;\n",
              "    }\n",
              "</style>\n",
              "<table border=\"1\" class=\"dataframe\">\n",
              "  <thead>\n",
              "    <tr style=\"text-align: right;\">\n",
              "      <th></th>\n",
              "      <th>coeficientes</th>\n",
              "    </tr>\n",
              "  </thead>\n",
              "  <tbody>\n",
              "    <tr>\n",
              "      <th>intercept</th>\n",
              "      <td>23.561441</td>\n",
              "    </tr>\n",
              "    <tr>\n",
              "      <th>cylinders</th>\n",
              "      <td>-0.305986</td>\n",
              "    </tr>\n",
              "    <tr>\n",
              "      <th>displacement</th>\n",
              "      <td>1.244701</td>\n",
              "    </tr>\n",
              "    <tr>\n",
              "      <th>horsepower</th>\n",
              "      <td>-0.662073</td>\n",
              "    </tr>\n",
              "    <tr>\n",
              "      <th>weight</th>\n",
              "      <td>-5.761717</td>\n",
              "    </tr>\n",
              "    <tr>\n",
              "      <th>accelaration</th>\n",
              "      <td>0.394685</td>\n",
              "    </tr>\n",
              "    <tr>\n",
              "      <th>model_year</th>\n",
              "      <td>2.754993</td>\n",
              "    </tr>\n",
              "  </tbody>\n",
              "</table>\n",
              "</div>"
            ],
            "text/plain": [
              "              coeficientes\n",
              "intercept        23.561441\n",
              "cylinders        -0.305986\n",
              "displacement      1.244701\n",
              "horsepower       -0.662073\n",
              "weight           -5.761717\n",
              "accelaration      0.394685\n",
              "model_year        2.754993"
            ]
          },
          "execution_count": 16,
          "metadata": {},
          "output_type": "execute_result"
        }
      ],
      "source": [
        "# Desta forma é mais fácil avaliar cada coeficiente, pois aparecerá os nomes de cada coeficiente\n",
        "\n",
        "# Criar objeto com valores do intercepto e dos coeficientes com numpy\n",
        "valor = np.append(model_lr.intercept_, model_lr.coef_)\n",
        "\n",
        "# Criar objeto com os nomes das variáveis com numpy\n",
        "nomes = np.append('intercept', X.columns)\n",
        "\n",
        "# Criar um dataframe com valores e nomes com pandas\n",
        "resultado = pd.DataFrame(data = valor, index = nomes, columns = ['coeficientes']); resultado"
      ]
    },
    {
      "cell_type": "markdown",
      "metadata": {
        "id": "RMROZtkMKGg0"
      },
      "source": [
        "### Predição"
      ]
    },
    {
      "cell_type": "code",
      "execution_count": null,
      "metadata": {
        "id": "sgOxLNOhKGg0",
        "outputId": "94207c8a-e423-4cc8-bb40-4f66d1125a40"
      },
      "outputs": [
        {
          "data": {
            "text/html": [
              "<div>\n",
              "<style scoped>\n",
              "    .dataframe tbody tr th:only-of-type {\n",
              "        vertical-align: middle;\n",
              "    }\n",
              "\n",
              "    .dataframe tbody tr th {\n",
              "        vertical-align: top;\n",
              "    }\n",
              "\n",
              "    .dataframe thead th {\n",
              "        text-align: right;\n",
              "    }\n",
              "</style>\n",
              "<table border=\"1\" class=\"dataframe\">\n",
              "  <thead>\n",
              "    <tr style=\"text-align: right;\">\n",
              "      <th></th>\n",
              "      <th>Aprendidos_mpg</th>\n",
              "      <th>Reais_mpg</th>\n",
              "    </tr>\n",
              "  </thead>\n",
              "  <tbody>\n",
              "    <tr>\n",
              "      <th>0</th>\n",
              "      <td>21.482328</td>\n",
              "      <td>18.0</td>\n",
              "    </tr>\n",
              "    <tr>\n",
              "      <th>1</th>\n",
              "      <td>28.499275</td>\n",
              "      <td>15.0</td>\n",
              "    </tr>\n",
              "    <tr>\n",
              "      <th>2</th>\n",
              "      <td>31.275498</td>\n",
              "      <td>18.0</td>\n",
              "    </tr>\n",
              "    <tr>\n",
              "      <th>3</th>\n",
              "      <td>25.503941</td>\n",
              "      <td>16.0</td>\n",
              "    </tr>\n",
              "    <tr>\n",
              "      <th>4</th>\n",
              "      <td>25.951473</td>\n",
              "      <td>17.0</td>\n",
              "    </tr>\n",
              "    <tr>\n",
              "      <th>...</th>\n",
              "      <td>...</td>\n",
              "      <td>...</td>\n",
              "    </tr>\n",
              "    <tr>\n",
              "      <th>113</th>\n",
              "      <td>29.438176</td>\n",
              "      <td>26.0</td>\n",
              "    </tr>\n",
              "    <tr>\n",
              "      <th>114</th>\n",
              "      <td>20.170769</td>\n",
              "      <td>15.0</td>\n",
              "    </tr>\n",
              "    <tr>\n",
              "      <th>115</th>\n",
              "      <td>16.953036</td>\n",
              "      <td>16.0</td>\n",
              "    </tr>\n",
              "    <tr>\n",
              "      <th>116</th>\n",
              "      <td>25.469789</td>\n",
              "      <td>29.0</td>\n",
              "    </tr>\n",
              "    <tr>\n",
              "      <th>117</th>\n",
              "      <td>26.470311</td>\n",
              "      <td>24.0</td>\n",
              "    </tr>\n",
              "  </tbody>\n",
              "</table>\n",
              "<p>118 rows × 2 columns</p>\n",
              "</div>"
            ],
            "text/plain": [
              "     Aprendidos_mpg  Reais_mpg\n",
              "0         21.482328       18.0\n",
              "1         28.499275       15.0\n",
              "2         31.275498       18.0\n",
              "3         25.503941       16.0\n",
              "4         25.951473       17.0\n",
              "..              ...        ...\n",
              "113       29.438176       26.0\n",
              "114       20.170769       15.0\n",
              "115       16.953036       16.0\n",
              "116       25.469789       29.0\n",
              "117       26.470311       24.0\n",
              "\n",
              "[118 rows x 2 columns]"
            ]
          },
          "execution_count": 17,
          "metadata": {},
          "output_type": "execute_result"
        }
      ],
      "source": [
        "# Comparando valores reais aos aprendidos\n",
        "df_comp = pd.DataFrame(data = list(zip(predict_lr, y)), columns = ['Aprendidos_mpg', 'Reais_mpg']); df_comp"
      ]
    },
    {
      "cell_type": "code",
      "execution_count": null,
      "metadata": {
        "id": "9JzWPw9wKGg0",
        "outputId": "9ff5e2c2-47be-4c98-da84-89f02ad67dd1"
      },
      "outputs": [
        {
          "data": {
            "text/html": [
              "<div>\n",
              "<style scoped>\n",
              "    .dataframe tbody tr th:only-of-type {\n",
              "        vertical-align: middle;\n",
              "    }\n",
              "\n",
              "    .dataframe tbody tr th {\n",
              "        vertical-align: top;\n",
              "    }\n",
              "\n",
              "    .dataframe thead th {\n",
              "        text-align: right;\n",
              "    }\n",
              "</style>\n",
              "<table border=\"1\" class=\"dataframe\">\n",
              "  <thead>\n",
              "    <tr style=\"text-align: right;\">\n",
              "      <th></th>\n",
              "      <th>Aprendidos_mpg</th>\n",
              "      <th>Reais_mpg</th>\n",
              "      <th>erro</th>\n",
              "    </tr>\n",
              "  </thead>\n",
              "  <tbody>\n",
              "    <tr>\n",
              "      <th>0</th>\n",
              "      <td>21.482328</td>\n",
              "      <td>18.0</td>\n",
              "      <td>3.482328</td>\n",
              "    </tr>\n",
              "    <tr>\n",
              "      <th>1</th>\n",
              "      <td>28.499275</td>\n",
              "      <td>15.0</td>\n",
              "      <td>13.499275</td>\n",
              "    </tr>\n",
              "    <tr>\n",
              "      <th>2</th>\n",
              "      <td>31.275498</td>\n",
              "      <td>18.0</td>\n",
              "      <td>13.275498</td>\n",
              "    </tr>\n",
              "    <tr>\n",
              "      <th>3</th>\n",
              "      <td>25.503941</td>\n",
              "      <td>16.0</td>\n",
              "      <td>9.503941</td>\n",
              "    </tr>\n",
              "    <tr>\n",
              "      <th>4</th>\n",
              "      <td>25.951473</td>\n",
              "      <td>17.0</td>\n",
              "      <td>8.951473</td>\n",
              "    </tr>\n",
              "    <tr>\n",
              "      <th>...</th>\n",
              "      <td>...</td>\n",
              "      <td>...</td>\n",
              "      <td>...</td>\n",
              "    </tr>\n",
              "    <tr>\n",
              "      <th>113</th>\n",
              "      <td>29.438176</td>\n",
              "      <td>26.0</td>\n",
              "      <td>3.438176</td>\n",
              "    </tr>\n",
              "    <tr>\n",
              "      <th>114</th>\n",
              "      <td>20.170769</td>\n",
              "      <td>15.0</td>\n",
              "      <td>5.170769</td>\n",
              "    </tr>\n",
              "    <tr>\n",
              "      <th>115</th>\n",
              "      <td>16.953036</td>\n",
              "      <td>16.0</td>\n",
              "      <td>0.953036</td>\n",
              "    </tr>\n",
              "    <tr>\n",
              "      <th>116</th>\n",
              "      <td>25.469789</td>\n",
              "      <td>29.0</td>\n",
              "      <td>-3.530211</td>\n",
              "    </tr>\n",
              "    <tr>\n",
              "      <th>117</th>\n",
              "      <td>26.470311</td>\n",
              "      <td>24.0</td>\n",
              "      <td>2.470311</td>\n",
              "    </tr>\n",
              "  </tbody>\n",
              "</table>\n",
              "<p>118 rows × 3 columns</p>\n",
              "</div>"
            ],
            "text/plain": [
              "     Aprendidos_mpg  Reais_mpg       erro\n",
              "0         21.482328       18.0   3.482328\n",
              "1         28.499275       15.0  13.499275\n",
              "2         31.275498       18.0  13.275498\n",
              "3         25.503941       16.0   9.503941\n",
              "4         25.951473       17.0   8.951473\n",
              "..              ...        ...        ...\n",
              "113       29.438176       26.0   3.438176\n",
              "114       20.170769       15.0   5.170769\n",
              "115       16.953036       16.0   0.953036\n",
              "116       25.469789       29.0  -3.530211\n",
              "117       26.470311       24.0   2.470311\n",
              "\n",
              "[118 rows x 3 columns]"
            ]
          },
          "execution_count": 18,
          "metadata": {},
          "output_type": "execute_result"
        }
      ],
      "source": [
        "# Adiciona uma coluna com os erros de cada observação\n",
        "df_comp['erro'] = df_comp['Aprendidos_mpg'] - df_comp['Reais_mpg'];df_comp"
      ]
    },
    {
      "cell_type": "code",
      "execution_count": null,
      "metadata": {
        "id": "BwvD8myOKGg1",
        "outputId": "61a047de-87ad-4fa3-d50c-ce0b4d2b6bd7"
      },
      "outputs": [
        {
          "data": {
            "text/html": [
              "<div>\n",
              "<style scoped>\n",
              "    .dataframe tbody tr th:only-of-type {\n",
              "        vertical-align: middle;\n",
              "    }\n",
              "\n",
              "    .dataframe tbody tr th {\n",
              "        vertical-align: top;\n",
              "    }\n",
              "\n",
              "    .dataframe thead th {\n",
              "        text-align: right;\n",
              "    }\n",
              "</style>\n",
              "<table border=\"1\" class=\"dataframe\">\n",
              "  <thead>\n",
              "    <tr style=\"text-align: right;\">\n",
              "      <th></th>\n",
              "      <th>Aprendidos_mpg</th>\n",
              "      <th>Reais_mpg</th>\n",
              "      <th>erro</th>\n",
              "    </tr>\n",
              "  </thead>\n",
              "  <tbody>\n",
              "    <tr>\n",
              "      <th>count</th>\n",
              "      <td>118.000000</td>\n",
              "      <td>118.000000</td>\n",
              "      <td>118.000000</td>\n",
              "    </tr>\n",
              "    <tr>\n",
              "      <th>mean</th>\n",
              "      <td>23.487162</td>\n",
              "      <td>18.491525</td>\n",
              "      <td>4.995636</td>\n",
              "    </tr>\n",
              "    <tr>\n",
              "      <th>std</th>\n",
              "      <td>6.609382</td>\n",
              "      <td>5.695621</td>\n",
              "      <td>8.473485</td>\n",
              "    </tr>\n",
              "    <tr>\n",
              "      <th>min</th>\n",
              "      <td>5.418029</td>\n",
              "      <td>9.000000</td>\n",
              "      <td>-22.027937</td>\n",
              "    </tr>\n",
              "    <tr>\n",
              "      <th>25%</th>\n",
              "      <td>19.577272</td>\n",
              "      <td>14.000000</td>\n",
              "      <td>-0.552574</td>\n",
              "    </tr>\n",
              "    <tr>\n",
              "      <th>50%</th>\n",
              "      <td>24.248101</td>\n",
              "      <td>18.000000</td>\n",
              "      <td>5.110966</td>\n",
              "    </tr>\n",
              "    <tr>\n",
              "      <th>75%</th>\n",
              "      <td>28.985268</td>\n",
              "      <td>23.000000</td>\n",
              "      <td>10.201910</td>\n",
              "    </tr>\n",
              "    <tr>\n",
              "      <th>max</th>\n",
              "      <td>34.547675</td>\n",
              "      <td>35.000000</td>\n",
              "      <td>21.789021</td>\n",
              "    </tr>\n",
              "  </tbody>\n",
              "</table>\n",
              "</div>"
            ],
            "text/plain": [
              "       Aprendidos_mpg   Reais_mpg        erro\n",
              "count      118.000000  118.000000  118.000000\n",
              "mean        23.487162   18.491525    4.995636\n",
              "std          6.609382    5.695621    8.473485\n",
              "min          5.418029    9.000000  -22.027937\n",
              "25%         19.577272   14.000000   -0.552574\n",
              "50%         24.248101   18.000000    5.110966\n",
              "75%         28.985268   23.000000   10.201910\n",
              "max         34.547675   35.000000   21.789021"
            ]
          },
          "execution_count": 19,
          "metadata": {},
          "output_type": "execute_result"
        }
      ],
      "source": [
        "# Mostra os parametro estatísticos do modelo aprendido\n",
        "df_comp.describe()"
      ]
    },
    {
      "cell_type": "markdown",
      "metadata": {
        "id": "TiTz6ib3KGg1"
      },
      "source": [
        "### Análise da estatística:\n",
        "#### O desvio padrão e a média estão baixos, o que é muito bom para o modelo. Estes são ótimos indicadores de performance.\n",
        "#### O erro mínimo e máximo estão bem altos. Pode ser devido a outilers, mas esse não era nosso objetivo de análise. Fica pra você como exercício.\n",
        "\n",
        "#### <font color = '#FF0033'> É bem provável que se for acertado os outliers, nosso modelo ficará ainda melhor!</font>"
      ]
    },
    {
      "cell_type": "code",
      "execution_count": null,
      "metadata": {
        "id": "qd5dgdMGKGg1",
        "outputId": "f024cd8f-5017-48ac-ec1b-52d4abf1dd60"
      },
      "outputs": [
        {
          "data": {
            "text/plain": [
              "<Figure size 1080x864 with 0 Axes>"
            ]
          },
          "metadata": {},
          "output_type": "display_data"
        },
        {
          "data": {
            "image/png": "[encoded data removed]",
            "text/plain": [
              "<Figure size 432x432 with 3 Axes>"
            ]
          },
          "metadata": {
            "needs_background": "light"
          },
          "output_type": "display_data"
        }
      ],
      "source": [
        "# Plotar massa de dados\n",
        "plt.figure(figsize = (15,12))\n",
        "sb.jointplot(y_teste, predict_lr, kind = 'reg')\n",
        "plt.ylabel('Valores Previstos')\n",
        "plt.xlabel('Valores Reais')\n",
        "plt.title('Relação em dados Reais e Previstos')\n",
        "plt.show()"
      ]
    },
    {
      "cell_type": "code",
      "execution_count": null,
      "metadata": {
        "id": "e_MEuEm_KGg1",
        "outputId": "2d86682d-51e3-404f-9641-f53c47bfc4bf"
      },
      "outputs": [
        {
          "name": "stdout",
          "output_type": "stream",
          "text": [
            "O modelo teve um aprendizado com R quadrado igual  80.0 %\n",
            "\n",
            "Os coeficientes demonstram a forte relação que explicam o aprendizado do modelo               coeficientes\n",
            "intercept        23.561441\n",
            "cylinders        -0.305986\n",
            "displacement      1.244701\n",
            "horsepower       -0.662073\n",
            "weight           -5.761717\n",
            "accelaration      0.394685\n",
            "model_year        2.754993\n"
          ]
        }
      ],
      "source": [
        "# Resumo:\n",
        "print('O modelo teve um aprendizado com R quadrado igual ',round(lr.score(X_teste, y_teste)*100), '%')\n",
        "print('')\n",
        "print('Os coeficientes demonstram a forte relação que explicam o aprendizado do modelo', resultado)"
      ]
    },
    {
      "cell_type": "markdown",
      "metadata": {
        "id": "XDNwFqkWKGg1"
      },
      "source": [
        "### <font color = '#006600'>Interpretação dos coeficientes para cada variável em relação a mpg (milhas por galão)</font>\n",
        "    a) a cada cilindro que aumenta, diminui 0.305986 o rendimento do veículo/mpg\n",
        "    b) quanto mais há deslocamento do motor, mais aumenta o rendimento em 1,244701/galão. Acontece que deveria ser o inverso. Veja o gráfico abaixo que mpg x displacment tem correlação negativa, quando um cresce o outro decresce e vice-versa. A primeira vista, há outliers que provocam distorção neste coeficiente.\n",
        "    c) quanto maior a potencia do motor, menor o aproveitamento de mpg\n",
        "    d) quanto mais pesado o veículo, menor o rendimento por mpg. Relação negativa e forte.\n",
        "    e) quanto maior a aceleração, maior o aproveitamento em mpg.\n",
        "    f) o ano do modelo do veículo tem relaçao positiva e forte. Quanto mais novo, melhor o rendimento mpg."
      ]
    },
    {
      "cell_type": "code",
      "execution_count": null,
      "metadata": {
        "id": "hrntDI3tKGg2",
        "outputId": "fb26666e-6931-4c7f-fc53-2b165c55e89c"
      },
      "outputs": [
        {
          "data": {
            "text/plain": [
              "<matplotlib.axes._subplots.AxesSubplot at 0x1ec06866488>"
            ]
          },
          "execution_count": 22,
          "metadata": {},
          "output_type": "execute_result"
        },
        {
          "data": {
            "image/png": "[encoded data removed]",
            "text/plain": [
              "<Figure size 720x576 with 2 Axes>"
            ]
          },
          "metadata": {
            "needs_background": "light"
          },
          "output_type": "display_data"
        }
      ],
      "source": [
        "# Gráfico de suporte à interpretação\n",
        "\n",
        "corr = df.corr()\n",
        "plt.figure(figsize = (10,8))\n",
        "sb.heatmap(corr)"
      ]
    },
    {
      "cell_type": "code",
      "execution_count": null,
      "metadata": {
        "id": "80XlLk55KGg2",
        "outputId": "4035cbc0-825a-45a2-9d1e-8549c5b31dc3"
      },
      "outputs": [
        {
          "data": {
            "text/plain": [
              "Text(0.5, 0.98, 'Relação Negativa entre MPG e DISPLACEMENT')"
            ]
          },
          "execution_count": 23,
          "metadata": {},
          "output_type": "execute_result"
        },
        {
          "data": {
            "image/png": "[encoded data removed]",
            "text/plain": [
              "<Figure size 720x576 with 1 Axes>"
            ]
          },
          "metadata": {
            "needs_background": "light"
          },
          "output_type": "display_data"
        }
      ],
      "source": [
        "# Gráfico de suporte à interpretação\n",
        "\n",
        "plt.figure(figsize = (10,8))\n",
        "sb.scatterplot(data = df, x = 'mpg', y = 'displacement')\n",
        "plt.title('Conforme aumenta o deslocamento do motor diminui as milhas por galão')\n",
        "plt.suptitle(\"Relação Negativa entre MPG e DISPLACEMENT\")"
      ]
    },
    {
      "cell_type": "markdown",
      "metadata": {
        "id": "NmPNqW20KGg2"
      },
      "source": [
        "# FIM"
      ]
    }
  ],
  "metadata": {
    "interpreter": {
      "hash": "ccd75a29da95b98a3c3e2f6e03a80f1223af59106eb87c3d2f2d59b9767cc6aa"
    },
    "kernelspec": {
      "display_name": "Python 3",
      "language": "python",
      "name": "python3"
    },
    "language_info": {
      "codemirror_mode": {
        "name": "ipython",
        "version": 3
      },
      "file_extension": ".py",
      "mimetype": "text/x-python",
      "name": "python",
      "nbconvert_exporter": "python",
      "pygments_lexer": "ipython3",
      "version": "3.7.6"
    },
    "colab": {
      "name": "Linear_Regression_Algorithm.ipynb",
      "provenance": [],
      "include_colab_link": true
    }
  },
  "nbformat": 4,
  "nbformat_minor": 0
}