{
  "cells": [
    {
      "cell_type": "markdown",
      "metadata": {
        "id": "view-in-github",
        "colab_type": "text"
      },
      "source": [
        "<a href=\"https://colab.research.google.com/github/Dieljr/README/blob/main/SVR_Grid.ipynb\" target=\"_parent\"><img src=\"https://colab.research.google.com/assets/colab-badge.svg\" alt=\"Open In Colab\"/></a>"
      ]
    },
    {
      "cell_type": "markdown",
      "metadata": {
        "id": "RxKJeV2qcq3q"
      },
      "source": [
        "# Conteúdo para aulas online\n",
        "## Terceiro Notebook: GridSearchCV para SVM\n",
        "\n",
        "### O Objetivo desse notebook é o de apresentar recursos intermediários a avançados sobre o Algoritmo SUPPORT VECTOR MACHINE REGRESSOR com GridSearchCV. O SVR é da classe dos SVMs."
      ]
    },
    {
      "cell_type": "markdown",
      "metadata": {
        "id": "vICCOhuIcq3s"
      },
      "source": [
        "1. Source: \n",
        "\n",
        "a) <font color = '#CD5C5C'>Site do sklearn:</font> https://scikit-learn.org/stable/modules/generated/sklearn.model_selection.GridSearchCV.html?highlight=grid#sklearn.model_selection.GridSearchCV\n",
        "\n",
        "b) <font color = '#CD5C5C'>Site do Sklearn: SVR:</font>https://scikit-learn.org/stable/modules/generated/sklearn.svm.LinearSVR.html#sklearn.svm.LinearSVR\n",
        "\n",
        "b) <font colo = '#CD5C5C'>Livro Mãos à Obra: Aprendizado de Máquina com Scikit-Learn e TensorFlow</font>: https://www.amazon.com.br/M%C3%A3os-obra-aprendizado-Scikit-Learn-inteligentes/dp/8550815489/ref=sr_1_1?crid=2JG8SYAU8K3UQ&keywords=tensorflow&qid=1646567493&s=books&sprefix=tensort+flow%2Cstripbooks%2C229&sr=1-1&ufe=app_do%3Aamzn1.fos.6d798eae-cadf-45de-946a-f477d47705b9\n",
        "\n",
        "c) <font color = '#CD5C5C'>Livro Análise de dados com Python e Pandas</font>:https://www.amazon.com.br/An%C3%A1lise-Dados-com-Python-Pandas/dp/8575226991/ref=sr_1_1?__mk_pt_BR=%C3%85M%C3%85%C5%BD%C3%95%C3%91&keywords=analise+de+dados+com+python&qid=1646671469&sr=8-1&ufe=app_do%3Aamzn1.fos.6d798eae-cadf-45de-946a-f477d47705b9\n",
        "\n",
        "\n",
        "3. Parametros ou hiperparamentros:\n",
        "Para você que está começando, pode parecer estranho e confuso, mas é assim que a comunidade em Ciência de Dados se refere ajustadores dos algoritmos de machine learning. Então, vá se acostumando!\n",
        "Irei apresentar somente os mais importantes parametros que o ajudará no seu dia-a-dia como cientista de dados.\n",
        "\n",
        "class sklearn.svm.LinearSVR(*, epsilon=0.0, tol=0.0001, C=1.0, loss='epsilon_insensitive', fit_intercept=True, intercept_scaling=1.0, dual=True, verbose=0, random_state=None, max_iter=1000)\n",
        "\n",
        "a) epsilon: 0.0 por padrão. Quanto menor seu valor, menor as margens entre as duas classes.\n",
        "\n",
        "b) C: 1.0 por padrão. Quanto menor seu valor, maior as margens entre as duas classes. É chamado de parêmetro de regularização. Para uma grande número de dados e aconselhável reduzir o valor de C.\n",
        "\n",
        "c) loss: métodos de funções de perda. É ‘epsilon_insensitive’ por padrão, mas pode ser alterado para ‘squared_epsilon_insensitive’.  O epsilon-insensitive significa a capacidade de inserir mais instâncias dentro da margem e não afetar as previsões do modelo. Esse parametro controla a largura da banda entre as classes.\n",
        "\n",
        "d) verbose: print as saídas do algoritmo. É 0 por padrão.\n",
        "\n",
        "Atributos: ou o que se pode extrair do algoritmo depois que ele for usado. Melhor do que explicá-los aqui (teoria), é apresentá-los na prática!\n",
        "\n",
        "Cometários:\n",
        "Uma boa combinação é o uso dos parâmetros C e epsilon para capturar a melhor configuração das margens para REGRESSÃO. Para a versão LinearSVC o objetivo é o inverso.\n",
        "LinearSVR utiliza o kernel 'liblinear'.\n",
        "O algotrimo recomenda que você  redimensione os dados X para [0,1] ou [-1,+1] ou padronize par média = 0 e desvio padrão = 1."
      ]
    },
    {
      "cell_type": "markdown",
      "metadata": {
        "id": "CowuCj_Ycq3t"
      },
      "source": [
        "## PRÁTICA:"
      ]
    },
    {
      "cell_type": "code",
      "execution_count": null,
      "metadata": {
        "id": "oMp-5B0ecq3t"
      },
      "outputs": [],
      "source": [
        "# Carregar pacotes\n",
        "\n",
        "import numpy as np\n",
        "import pandas as pd\n",
        "\n",
        "import matplotlib.pyplot as plt\n",
        "import matplotlib as mpl\n",
        "import seaborn as sb\n",
        "\n",
        "from sklearn.preprocessing import StandardScaler\n",
        "from sklearn.svm import LinearSVR\n",
        "from sklearn.model_selection import train_test_split, GridSearchCV\n",
        "\n",
        "import sys"
      ]
    },
    {
      "cell_type": "code",
      "execution_count": null,
      "metadata": {
        "id": "XSmLiB1Tcq3u",
        "outputId": "06328ae1-4608-4496-beee-2e56fa8728d6"
      },
      "outputs": [
        {
          "name": "stdout",
          "output_type": "stream",
          "text": [
            "3.7.6 (default, Jan  8 2020, 20:23:39) [MSC v.1916 64 bit (AMD64)]\n"
          ]
        }
      ],
      "source": [
        "print(sys.version)"
      ]
    },
    {
      "cell_type": "code",
      "execution_count": null,
      "metadata": {
        "id": "HJLd-3i4cq3v",
        "outputId": "ad63a548-393e-4fdb-f849-e1021063ce73"
      },
      "outputs": [
        {
          "name": "stdout",
          "output_type": "stream",
          "text": [
            "<class 'pandas.core.frame.DataFrame'>\n",
            "RangeIndex: 406 entries, 0 to 405\n",
            "Data columns (total 9 columns):\n",
            " #   Column        Non-Null Count  Dtype  \n",
            "---  ------        --------------  -----  \n",
            " 0   mpg           398 non-null    float64\n",
            " 1   cylinders     406 non-null    float64\n",
            " 2   displacement  406 non-null    float64\n",
            " 3   horsepower    400 non-null    float64\n",
            " 4   weight        406 non-null    float64\n",
            " 5   accelaration  406 non-null    float64\n",
            " 6   model_year    406 non-null    float64\n",
            " 7   origin        1 non-null      object \n",
            " 8   car_name      0 non-null      float64\n",
            "dtypes: float64(8), object(1)\n",
            "memory usage: 28.7+ KB\n"
          ]
        }
      ],
      "source": [
        "# Carregar dataset\n",
        "df = pd.read_csv('mpg.csv', sep = ';', names=['mpg', 'cylinders', 'displacement', 'horsepower', 'weight', 'accelaration',\n",
        "                                              'model_year', 'origin', 'car_name'])\n",
        "df.info()"
      ]
    },
    {
      "cell_type": "markdown",
      "metadata": {
        "id": "fWc7HckMcq3w"
      },
      "source": [
        "### Pequenos ajustes"
      ]
    },
    {
      "cell_type": "code",
      "execution_count": null,
      "metadata": {
        "id": "itzR5to0cq3w"
      },
      "outputs": [],
      "source": [
        "# Não precisaremos das duas últimas colunas\n",
        "del df['origin']\n",
        "del df['car_name']"
      ]
    },
    {
      "cell_type": "code",
      "execution_count": null,
      "metadata": {
        "id": "ZWCB13L0cq3w",
        "outputId": "a30cf9fc-0753-4337-8f08-586bd315fe37"
      },
      "outputs": [
        {
          "data": {
            "text/html": [
              "<div>\n",
              "<style scoped>\n",
              "    .dataframe tbody tr th:only-of-type {\n",
              "        vertical-align: middle;\n",
              "    }\n",
              "\n",
              "    .dataframe tbody tr th {\n",
              "        vertical-align: top;\n",
              "    }\n",
              "\n",
              "    .dataframe thead th {\n",
              "        text-align: right;\n",
              "    }\n",
              "</style>\n",
              "<table border=\"1\" class=\"dataframe\">\n",
              "  <thead>\n",
              "    <tr style=\"text-align: right;\">\n",
              "      <th></th>\n",
              "      <th>mpg</th>\n",
              "      <th>cylinders</th>\n",
              "      <th>displacement</th>\n",
              "      <th>horsepower</th>\n",
              "      <th>weight</th>\n",
              "      <th>accelaration</th>\n",
              "      <th>model_year</th>\n",
              "    </tr>\n",
              "  </thead>\n",
              "  <tbody>\n",
              "    <tr>\n",
              "      <th>0</th>\n",
              "      <td>18.0</td>\n",
              "      <td>8.0</td>\n",
              "      <td>307.0</td>\n",
              "      <td>130.0</td>\n",
              "      <td>3504.0</td>\n",
              "      <td>12.0</td>\n",
              "      <td>70.0</td>\n",
              "    </tr>\n",
              "    <tr>\n",
              "      <th>1</th>\n",
              "      <td>15.0</td>\n",
              "      <td>8.0</td>\n",
              "      <td>350.0</td>\n",
              "      <td>165.0</td>\n",
              "      <td>3693.0</td>\n",
              "      <td>11.5</td>\n",
              "      <td>70.0</td>\n",
              "    </tr>\n",
              "    <tr>\n",
              "      <th>2</th>\n",
              "      <td>18.0</td>\n",
              "      <td>8.0</td>\n",
              "      <td>318.0</td>\n",
              "      <td>150.0</td>\n",
              "      <td>3436.0</td>\n",
              "      <td>11.0</td>\n",
              "      <td>70.0</td>\n",
              "    </tr>\n",
              "    <tr>\n",
              "      <th>3</th>\n",
              "      <td>16.0</td>\n",
              "      <td>8.0</td>\n",
              "      <td>304.0</td>\n",
              "      <td>150.0</td>\n",
              "      <td>3433.0</td>\n",
              "      <td>12.0</td>\n",
              "      <td>70.0</td>\n",
              "    </tr>\n",
              "    <tr>\n",
              "      <th>4</th>\n",
              "      <td>17.0</td>\n",
              "      <td>8.0</td>\n",
              "      <td>302.0</td>\n",
              "      <td>140.0</td>\n",
              "      <td>3449.0</td>\n",
              "      <td>10.5</td>\n",
              "      <td>70.0</td>\n",
              "    </tr>\n",
              "  </tbody>\n",
              "</table>\n",
              "</div>"
            ],
            "text/plain": [
              "    mpg  cylinders  displacement  horsepower  weight  accelaration  model_year\n",
              "0  18.0        8.0         307.0       130.0  3504.0          12.0        70.0\n",
              "1  15.0        8.0         350.0       165.0  3693.0          11.5        70.0\n",
              "2  18.0        8.0         318.0       150.0  3436.0          11.0        70.0\n",
              "3  16.0        8.0         304.0       150.0  3433.0          12.0        70.0\n",
              "4  17.0        8.0         302.0       140.0  3449.0          10.5        70.0"
            ]
          },
          "execution_count": 15,
          "metadata": {},
          "output_type": "execute_result"
        }
      ],
      "source": [
        "df.head()"
      ]
    },
    {
      "cell_type": "code",
      "execution_count": null,
      "metadata": {
        "id": "XVh8yaHhcq3x"
      },
      "outputs": [],
      "source": [
        "# Podemos excluir os valores missing sem perda significativa.\n",
        "df = df.dropna()"
      ]
    },
    {
      "cell_type": "code",
      "execution_count": null,
      "metadata": {
        "id": "yphu_Fyvcq3x",
        "outputId": "8337a88f-a3d4-4998-f633-719a2854283b"
      },
      "outputs": [
        {
          "name": "stdout",
          "output_type": "stream",
          "text": [
            "<class 'pandas.core.frame.DataFrame'>\n",
            "Int64Index: 392 entries, 0 to 405\n",
            "Data columns (total 7 columns):\n",
            " #   Column        Non-Null Count  Dtype  \n",
            "---  ------        --------------  -----  \n",
            " 0   mpg           392 non-null    float64\n",
            " 1   cylinders     392 non-null    float64\n",
            " 2   displacement  392 non-null    float64\n",
            " 3   horsepower    392 non-null    float64\n",
            " 4   weight        392 non-null    float64\n",
            " 5   accelaration  392 non-null    float64\n",
            " 6   model_year    392 non-null    float64\n",
            "dtypes: float64(7)\n",
            "memory usage: 24.5 KB\n"
          ]
        }
      ],
      "source": [
        "df.info()"
      ]
    },
    {
      "cell_type": "code",
      "execution_count": null,
      "metadata": {
        "id": "DOqsDc4ncq3x"
      },
      "outputs": [],
      "source": [
        "# Separar as variáveis para o algoritmo\n",
        "X = df.drop(['mpg'], axis = 1)\n",
        "y = df['mpg']"
      ]
    },
    {
      "cell_type": "code",
      "execution_count": null,
      "metadata": {
        "id": "zjPn86gocq3x"
      },
      "outputs": [],
      "source": [
        "# Normalizar o conjunto das features, pois o algoritmo exige para dados não normalizados\n",
        "scale = StandardScaler()\n",
        "X_scale = scale.fit_transform(X)"
      ]
    },
    {
      "cell_type": "code",
      "execution_count": null,
      "metadata": {
        "id": "yU494pjWcq3y"
      },
      "outputs": [],
      "source": [
        "# Dividir em dados treino e teste\n",
        "X_treino, X_teste, y_treino, y_teste = train_test_split(X_scale, y, test_size = 0.3, random_state = 100)"
      ]
    },
    {
      "cell_type": "markdown",
      "metadata": {
        "id": "VnMZF2S-cq3y"
      },
      "source": [
        "### Avaliação com diferentes configurações dos hiperparametros com GridSearchCV"
      ]
    },
    {
      "cell_type": "markdown",
      "metadata": {
        "id": "7xmpBac9cq3y"
      },
      "source": [
        "### Machine Learning com LinearSVR e GridSearchCV"
      ]
    },
    {
      "cell_type": "code",
      "execution_count": null,
      "metadata": {
        "id": "sllTb3qFcq3z"
      },
      "outputs": [],
      "source": [
        "# Criar objeto LinearSVR, apenas alterando verbose para acompanharmos as info geradas pelo algoritmo.\n",
        "svr = LinearSVR(random_state=590)\n",
        "\n",
        "# Criar parâmetros para o LinearSVR com o recurso do Grid (param_grid) em forma de dicionário\n",
        "param_grid = ({'epsilon': [0.5, 1.0, 1.5],\n",
        "               'C': [0.001, 0.005, 0.01, 0.05, 0.1, 0.5, 1, 1.5, 2.0, 2.5, 3.0], \n",
        "               'loss': ['epsilon_insensitive', 'squared_epsilon_insensitive']})\n",
        "\n",
        "# Criar objeto GridSearchCV\n",
        "grid = GridSearchCV(svr,\n",
        "                    param_grid,\n",
        "                    cv = 10,\n",
        "                    scoring = 'r2')"
      ]
    },
    {
      "cell_type": "code",
      "execution_count": null,
      "metadata": {
        "id": "hjT5KvEjcq3z",
        "outputId": "9aeee7be-2d10-49a8-a096-4c7bb256d7c2"
      },
      "outputs": [
        {
          "data": {
            "text/plain": [
              "GridSearchCV(cv=10, estimator=LinearSVR(random_state=590),\n",
              "             param_grid={'C': [0.001, 0.005, 0.01, 0.05, 0.1, 0.5, 1, 1.5, 2.0,\n",
              "                               2.5, 3.0],\n",
              "                         'epsilon': [0.5, 1.0, 1.5],\n",
              "                         'loss': ['epsilon_insensitive',\n",
              "                                  'squared_epsilon_insensitive']},\n",
              "             scoring='r2')"
            ]
          },
          "execution_count": 107,
          "metadata": {},
          "output_type": "execute_result"
        }
      ],
      "source": [
        "# treinar o modelo\n",
        "grid.fit(X_scale, y)"
      ]
    },
    {
      "cell_type": "markdown",
      "metadata": {
        "id": "oHCVOVopcq3z"
      },
      "source": [
        "## <font color = '#0000FF'>ANÁLISE DOS PARAMETROS</font>"
      ]
    },
    {
      "cell_type": "code",
      "execution_count": null,
      "metadata": {
        "id": "iVNDGqYMcq30",
        "outputId": "fbd4f2e6-e504-4671-e1d0-d2719ab62e14"
      },
      "outputs": [
        {
          "name": "stdout",
          "output_type": "stream",
          "text": [
            "LinearSVR(C=3.0, epsilon=1.0, loss='squared_epsilon_insensitive',\n",
            "          random_state=590)\n"
          ]
        }
      ],
      "source": [
        "# Best_estimator: mostra todos os parâmetros com melhor performance apresentado no treinamento\n",
        "print(grid.best_estimator_)"
      ]
    },
    {
      "cell_type": "code",
      "execution_count": null,
      "metadata": {
        "id": "4Kl_noOGcq30",
        "outputId": "c58db38d-65ef-4ad6-d405-f8f817118888"
      },
      "outputs": [
        {
          "name": "stdout",
          "output_type": "stream",
          "text": [
            "{'C': 3.0, 'epsilon': 1.0, 'loss': 'squared_epsilon_insensitive'}\n"
          ]
        }
      ],
      "source": [
        "# best_params_: mostra, dados a configuração do param_grid, as melhores combinações de performance\n",
        "print(grid.best_params_)"
      ]
    },
    {
      "cell_type": "code",
      "execution_count": null,
      "metadata": {
        "id": "ZBn9Bpjkcq30",
        "outputId": "61a7b1b9-09b4-4160-e26c-ab49cc9fa8d8"
      },
      "outputs": [
        {
          "name": "stdout",
          "output_type": "stream",
          "text": [
            "{'mean_fit_time': array([0.00100083, 0.00080047, 0.0007004 , 0.00077877, 0.00079982,\n",
            "       0.00059984, 0.00080659, 0.00070763, 0.00076168, 0.00079951,\n",
            "       0.00096741, 0.00095255, 0.00080028, 0.00080044, 0.00081303,\n",
            "       0.00076272, 0.00069952, 0.0009083 , 0.00090775, 0.00060604,\n",
            "       0.00080726, 0.00090573, 0.0007    , 0.00086019, 0.00076933,\n",
            "       0.00090714, 0.00080001, 0.00074568, 0.00060081, 0.00084221,\n",
            "       0.00080009, 0.00203354, 0.00093336, 0.00191152, 0.00079954,\n",
            "       0.0018389 , 0.00060077, 0.00314054, 0.0008013 , 0.00296445,\n",
            "       0.00113988, 0.00283203, 0.00123858, 0.00425806, 0.00127618,\n",
            "       0.00430412, 0.00106847, 0.00360038, 0.00137188, 0.00535169,\n",
            "       0.0009666 , 0.00513899, 0.00111551, 0.00440407, 0.00137291,\n",
            "       0.00683632, 0.00136073, 0.00609539, 0.00137081, 0.00557032,\n",
            "       0.00149987, 0.00797651, 0.00147033, 0.00703938, 0.00118048,\n",
            "       0.00659428]), 'std_fit_time': array([4.48090385e-04, 4.00234785e-04, 4.58521688e-04, 3.94597344e-04,\n",
            "       3.99913791e-04, 4.89765391e-04, 4.03835617e-04, 4.63913374e-04,\n",
            "       3.97488636e-04, 3.99759116e-04, 3.66314660e-04, 1.43000397e-04,\n",
            "       4.00138736e-04, 4.00224202e-04, 4.08441373e-04, 5.31958243e-04,\n",
            "       4.57945629e-04, 3.03919824e-04, 3.03593613e-04, 4.95201007e-04,\n",
            "       4.04271565e-04, 3.02680634e-04, 4.58255593e-04, 3.10495939e-04,\n",
            "       3.95571642e-04, 3.03416617e-04, 4.00006799e-04, 4.05987487e-04,\n",
            "       4.90566374e-04, 3.30852153e-04, 4.00043340e-04, 9.69486314e-05,\n",
            "       2.02117564e-04, 2.65003752e-04, 3.99770989e-04, 3.04475992e-04,\n",
            "       4.90527959e-04, 3.45390458e-04, 4.00655757e-04, 2.35748088e-04,\n",
            "       3.09531873e-04, 4.68099920e-04, 3.98043770e-04, 5.26136286e-04,\n",
            "       4.57813762e-04, 3.28450038e-04, 1.35932560e-04, 4.17378910e-04,\n",
            "       5.14435459e-04, 4.04976358e-04, 2.34057689e-04, 4.76665493e-04,\n",
            "       5.08501265e-04, 4.20446875e-04, 4.32888693e-04, 3.86264017e-04,\n",
            "       4.34025331e-04, 4.89741411e-04, 5.61645994e-04, 5.98347867e-04,\n",
            "       5.00947295e-04, 4.39654713e-04, 4.77577505e-04, 5.75461250e-04,\n",
            "       3.15138717e-04, 3.87895572e-04]), 'mean_score_time': array([3.99351120e-04, 2.99811363e-04, 3.99827957e-04, 1.99985504e-04,\n",
            "       2.99882889e-04, 4.08840179e-04, 2.58350372e-04, 4.00257111e-04,\n",
            "       2.00009346e-04, 3.00073624e-04, 1.99890137e-04, 4.99987602e-04,\n",
            "       4.99987602e-04, 4.00090218e-04, 2.99835205e-04, 3.00073624e-04,\n",
            "       3.00335884e-04, 3.56554985e-04, 2.00271606e-04, 5.60355186e-04,\n",
            "       3.64398956e-04, 3.00025940e-04, 2.99906731e-04, 3.07369232e-04,\n",
            "       2.99859047e-04, 3.00645828e-04, 4.07958031e-04, 3.99422646e-04,\n",
            "       3.22365761e-04, 4.23169136e-04, 4.29987907e-04, 2.31981277e-04,\n",
            "       1.99127197e-04, 4.19139862e-04, 4.00233269e-04, 2.98976898e-04,\n",
            "       5.51152229e-04, 4.00662422e-04, 5.34200668e-04, 3.62920761e-04,\n",
            "       2.32529640e-04, 2.00009346e-04, 3.33881378e-04, 3.32045555e-04,\n",
            "       9.99450684e-05, 1.00111961e-04, 4.99176979e-04, 3.00526619e-04,\n",
            "       1.99937820e-04, 2.00486183e-04, 1.99866295e-04, 2.00343132e-04,\n",
            "       3.50189209e-04, 6.00147247e-04, 3.00264359e-04, 3.99398804e-04,\n",
            "       5.99956512e-04, 5.00702858e-04, 6.99615479e-04, 3.00240517e-04,\n",
            "       3.99899483e-04, 2.99954414e-04, 3.00025940e-04, 4.99391556e-04,\n",
            "       6.00647926e-04, 3.36861610e-04]), 'std_score_time': array([0.0004891 , 0.00045797, 0.00048969, 0.00039997, 0.00045808,\n",
            "       0.00050139, 0.00040891, 0.00049021, 0.00040002, 0.00045837,\n",
            "       0.00039978, 0.00049999, 0.00049999, 0.00049001, 0.00045801,\n",
            "       0.00045837, 0.00045877, 0.00045263, 0.00040054, 0.00047159,\n",
            "       0.00045739, 0.0004583 , 0.00045812, 0.00047001, 0.00045804,\n",
            "       0.00045925, 0.00048312, 0.00048919, 0.00049528, 0.0005222 ,\n",
            "       0.00053296, 0.00039477, 0.00039826, 0.00051601, 0.00049018,\n",
            "       0.0004567 , 0.00056992, 0.00049071, 0.00054306, 0.00049697,\n",
            "       0.00039535, 0.00040002, 0.00044754, 0.00044626, 0.00029984,\n",
            "       0.00030034, 0.00049918, 0.00045906, 0.00039988, 0.00040097,\n",
            "       0.00039973, 0.00040069, 0.00055045, 0.00049002, 0.00045866,\n",
            "       0.00048918, 0.00048988, 0.00050071, 0.00045801, 0.00045863,\n",
            "       0.00048978, 0.00045819, 0.0004583 , 0.00049939, 0.00049043,\n",
            "       0.00052357]), 'param_C': masked_array(data=[0.001, 0.001, 0.001, 0.001, 0.001, 0.001, 0.005, 0.005,\n",
            "                   0.005, 0.005, 0.005, 0.005, 0.01, 0.01, 0.01, 0.01,\n",
            "                   0.01, 0.01, 0.05, 0.05, 0.05, 0.05, 0.05, 0.05, 0.1,\n",
            "                   0.1, 0.1, 0.1, 0.1, 0.1, 0.5, 0.5, 0.5, 0.5, 0.5, 0.5,\n",
            "                   1, 1, 1, 1, 1, 1, 1.5, 1.5, 1.5, 1.5, 1.5, 1.5, 2.0,\n",
            "                   2.0, 2.0, 2.0, 2.0, 2.0, 2.5, 2.5, 2.5, 2.5, 2.5, 2.5,\n",
            "                   3.0, 3.0, 3.0, 3.0, 3.0, 3.0],\n",
            "             mask=[False, False, False, False, False, False, False, False,\n",
            "                   False, False, False, False, False, False, False, False,\n",
            "                   False, False, False, False, False, False, False, False,\n",
            "                   False, False, False, False, False, False, False, False,\n",
            "                   False, False, False, False, False, False, False, False,\n",
            "                   False, False, False, False, False, False, False, False,\n",
            "                   False, False, False, False, False, False, False, False,\n",
            "                   False, False, False, False, False, False, False, False,\n",
            "                   False, False],\n",
            "       fill_value='?',\n",
            "            dtype=object), 'param_epsilon': masked_array(data=[0.5, 0.5, 1.0, 1.0, 1.5, 1.5, 0.5, 0.5, 1.0, 1.0, 1.5,\n",
            "                   1.5, 0.5, 0.5, 1.0, 1.0, 1.5, 1.5, 0.5, 0.5, 1.0, 1.0,\n",
            "                   1.5, 1.5, 0.5, 0.5, 1.0, 1.0, 1.5, 1.5, 0.5, 0.5, 1.0,\n",
            "                   1.0, 1.5, 1.5, 0.5, 0.5, 1.0, 1.0, 1.5, 1.5, 0.5, 0.5,\n",
            "                   1.0, 1.0, 1.5, 1.5, 0.5, 0.5, 1.0, 1.0, 1.5, 1.5, 0.5,\n",
            "                   0.5, 1.0, 1.0, 1.5, 1.5, 0.5, 0.5, 1.0, 1.0, 1.5, 1.5],\n",
            "             mask=[False, False, False, False, False, False, False, False,\n",
            "                   False, False, False, False, False, False, False, False,\n",
            "                   False, False, False, False, False, False, False, False,\n",
            "                   False, False, False, False, False, False, False, False,\n",
            "                   False, False, False, False, False, False, False, False,\n",
            "                   False, False, False, False, False, False, False, False,\n",
            "                   False, False, False, False, False, False, False, False,\n",
            "                   False, False, False, False, False, False, False, False,\n",
            "                   False, False],\n",
            "       fill_value='?',\n",
            "            dtype=object), 'param_loss': masked_array(data=['epsilon_insensitive', 'squared_epsilon_insensitive',\n",
            "                   'epsilon_insensitive', 'squared_epsilon_insensitive',\n",
            "                   'epsilon_insensitive', 'squared_epsilon_insensitive',\n",
            "                   'epsilon_insensitive', 'squared_epsilon_insensitive',\n",
            "                   'epsilon_insensitive', 'squared_epsilon_insensitive',\n",
            "                   'epsilon_insensitive', 'squared_epsilon_insensitive',\n",
            "                   'epsilon_insensitive', 'squared_epsilon_insensitive',\n",
            "                   'epsilon_insensitive', 'squared_epsilon_insensitive',\n",
            "                   'epsilon_insensitive', 'squared_epsilon_insensitive',\n",
            "                   'epsilon_insensitive', 'squared_epsilon_insensitive',\n",
            "                   'epsilon_insensitive', 'squared_epsilon_insensitive',\n",
            "                   'epsilon_insensitive', 'squared_epsilon_insensitive',\n",
            "                   'epsilon_insensitive', 'squared_epsilon_insensitive',\n",
            "                   'epsilon_insensitive', 'squared_epsilon_insensitive',\n",
            "                   'epsilon_insensitive', 'squared_epsilon_insensitive',\n",
            "                   'epsilon_insensitive', 'squared_epsilon_insensitive',\n",
            "                   'epsilon_insensitive', 'squared_epsilon_insensitive',\n",
            "                   'epsilon_insensitive', 'squared_epsilon_insensitive',\n",
            "                   'epsilon_insensitive', 'squared_epsilon_insensitive',\n",
            "                   'epsilon_insensitive', 'squared_epsilon_insensitive',\n",
            "                   'epsilon_insensitive', 'squared_epsilon_insensitive',\n",
            "                   'epsilon_insensitive', 'squared_epsilon_insensitive',\n",
            "                   'epsilon_insensitive', 'squared_epsilon_insensitive',\n",
            "                   'epsilon_insensitive', 'squared_epsilon_insensitive',\n",
            "                   'epsilon_insensitive', 'squared_epsilon_insensitive',\n",
            "                   'epsilon_insensitive', 'squared_epsilon_insensitive',\n",
            "                   'epsilon_insensitive', 'squared_epsilon_insensitive',\n",
            "                   'epsilon_insensitive', 'squared_epsilon_insensitive',\n",
            "                   'epsilon_insensitive', 'squared_epsilon_insensitive',\n",
            "                   'epsilon_insensitive', 'squared_epsilon_insensitive',\n",
            "                   'epsilon_insensitive', 'squared_epsilon_insensitive',\n",
            "                   'epsilon_insensitive', 'squared_epsilon_insensitive',\n",
            "                   'epsilon_insensitive', 'squared_epsilon_insensitive'],\n",
            "             mask=[False, False, False, False, False, False, False, False,\n",
            "                   False, False, False, False, False, False, False, False,\n",
            "                   False, False, False, False, False, False, False, False,\n",
            "                   False, False, False, False, False, False, False, False,\n",
            "                   False, False, False, False, False, False, False, False,\n",
            "                   False, False, False, False, False, False, False, False,\n",
            "                   False, False, False, False, False, False, False, False,\n",
            "                   False, False, False, False, False, False, False, False,\n",
            "                   False, False],\n",
            "       fill_value='?',\n",
            "            dtype=object), 'params': [{'C': 0.001, 'epsilon': 0.5, 'loss': 'epsilon_insensitive'}, {'C': 0.001, 'epsilon': 0.5, 'loss': 'squared_epsilon_insensitive'}, {'C': 0.001, 'epsilon': 1.0, 'loss': 'epsilon_insensitive'}, {'C': 0.001, 'epsilon': 1.0, 'loss': 'squared_epsilon_insensitive'}, {'C': 0.001, 'epsilon': 1.5, 'loss': 'epsilon_insensitive'}, {'C': 0.001, 'epsilon': 1.5, 'loss': 'squared_epsilon_insensitive'}, {'C': 0.005, 'epsilon': 0.5, 'loss': 'epsilon_insensitive'}, {'C': 0.005, 'epsilon': 0.5, 'loss': 'squared_epsilon_insensitive'}, {'C': 0.005, 'epsilon': 1.0, 'loss': 'epsilon_insensitive'}, {'C': 0.005, 'epsilon': 1.0, 'loss': 'squared_epsilon_insensitive'}, {'C': 0.005, 'epsilon': 1.5, 'loss': 'epsilon_insensitive'}, {'C': 0.005, 'epsilon': 1.5, 'loss': 'squared_epsilon_insensitive'}, {'C': 0.01, 'epsilon': 0.5, 'loss': 'epsilon_insensitive'}, {'C': 0.01, 'epsilon': 0.5, 'loss': 'squared_epsilon_insensitive'}, {'C': 0.01, 'epsilon': 1.0, 'loss': 'epsilon_insensitive'}, {'C': 0.01, 'epsilon': 1.0, 'loss': 'squared_epsilon_insensitive'}, {'C': 0.01, 'epsilon': 1.5, 'loss': 'epsilon_insensitive'}, {'C': 0.01, 'epsilon': 1.5, 'loss': 'squared_epsilon_insensitive'}, {'C': 0.05, 'epsilon': 0.5, 'loss': 'epsilon_insensitive'}, {'C': 0.05, 'epsilon': 0.5, 'loss': 'squared_epsilon_insensitive'}, {'C': 0.05, 'epsilon': 1.0, 'loss': 'epsilon_insensitive'}, {'C': 0.05, 'epsilon': 1.0, 'loss': 'squared_epsilon_insensitive'}, {'C': 0.05, 'epsilon': 1.5, 'loss': 'epsilon_insensitive'}, {'C': 0.05, 'epsilon': 1.5, 'loss': 'squared_epsilon_insensitive'}, {'C': 0.1, 'epsilon': 0.5, 'loss': 'epsilon_insensitive'}, {'C': 0.1, 'epsilon': 0.5, 'loss': 'squared_epsilon_insensitive'}, {'C': 0.1, 'epsilon': 1.0, 'loss': 'epsilon_insensitive'}, {'C': 0.1, 'epsilon': 1.0, 'loss': 'squared_epsilon_insensitive'}, {'C': 0.1, 'epsilon': 1.5, 'loss': 'epsilon_insensitive'}, {'C': 0.1, 'epsilon': 1.5, 'loss': 'squared_epsilon_insensitive'}, {'C': 0.5, 'epsilon': 0.5, 'loss': 'epsilon_insensitive'}, {'C': 0.5, 'epsilon': 0.5, 'loss': 'squared_epsilon_insensitive'}, {'C': 0.5, 'epsilon': 1.0, 'loss': 'epsilon_insensitive'}, {'C': 0.5, 'epsilon': 1.0, 'loss': 'squared_epsilon_insensitive'}, {'C': 0.5, 'epsilon': 1.5, 'loss': 'epsilon_insensitive'}, {'C': 0.5, 'epsilon': 1.5, 'loss': 'squared_epsilon_insensitive'}, {'C': 1, 'epsilon': 0.5, 'loss': 'epsilon_insensitive'}, {'C': 1, 'epsilon': 0.5, 'loss': 'squared_epsilon_insensitive'}, {'C': 1, 'epsilon': 1.0, 'loss': 'epsilon_insensitive'}, {'C': 1, 'epsilon': 1.0, 'loss': 'squared_epsilon_insensitive'}, {'C': 1, 'epsilon': 1.5, 'loss': 'epsilon_insensitive'}, {'C': 1, 'epsilon': 1.5, 'loss': 'squared_epsilon_insensitive'}, {'C': 1.5, 'epsilon': 0.5, 'loss': 'epsilon_insensitive'}, {'C': 1.5, 'epsilon': 0.5, 'loss': 'squared_epsilon_insensitive'}, {'C': 1.5, 'epsilon': 1.0, 'loss': 'epsilon_insensitive'}, {'C': 1.5, 'epsilon': 1.0, 'loss': 'squared_epsilon_insensitive'}, {'C': 1.5, 'epsilon': 1.5, 'loss': 'epsilon_insensitive'}, {'C': 1.5, 'epsilon': 1.5, 'loss': 'squared_epsilon_insensitive'}, {'C': 2.0, 'epsilon': 0.5, 'loss': 'epsilon_insensitive'}, {'C': 2.0, 'epsilon': 0.5, 'loss': 'squared_epsilon_insensitive'}, {'C': 2.0, 'epsilon': 1.0, 'loss': 'epsilon_insensitive'}, {'C': 2.0, 'epsilon': 1.0, 'loss': 'squared_epsilon_insensitive'}, {'C': 2.0, 'epsilon': 1.5, 'loss': 'epsilon_insensitive'}, {'C': 2.0, 'epsilon': 1.5, 'loss': 'squared_epsilon_insensitive'}, {'C': 2.5, 'epsilon': 0.5, 'loss': 'epsilon_insensitive'}, {'C': 2.5, 'epsilon': 0.5, 'loss': 'squared_epsilon_insensitive'}, {'C': 2.5, 'epsilon': 1.0, 'loss': 'epsilon_insensitive'}, {'C': 2.5, 'epsilon': 1.0, 'loss': 'squared_epsilon_insensitive'}, {'C': 2.5, 'epsilon': 1.5, 'loss': 'epsilon_insensitive'}, {'C': 2.5, 'epsilon': 1.5, 'loss': 'squared_epsilon_insensitive'}, {'C': 3.0, 'epsilon': 0.5, 'loss': 'epsilon_insensitive'}, {'C': 3.0, 'epsilon': 0.5, 'loss': 'squared_epsilon_insensitive'}, {'C': 3.0, 'epsilon': 1.0, 'loss': 'epsilon_insensitive'}, {'C': 3.0, 'epsilon': 1.0, 'loss': 'squared_epsilon_insensitive'}, {'C': 3.0, 'epsilon': 1.5, 'loss': 'epsilon_insensitive'}, {'C': 3.0, 'epsilon': 1.5, 'loss': 'squared_epsilon_insensitive'}], 'split0_test_score': array([-11.82142972,  -8.68160247, -11.82142972,  -8.86354875,\n",
            "       -11.82142972,  -9.04731411, -10.85504356,  -2.31700668,\n",
            "       -10.85504356,  -2.55920721, -10.85504356,  -2.8060674 ,\n",
            "        -9.7198392 ,  -0.90657833,  -9.7198392 ,  -1.10917859,\n",
            "        -9.7198392 ,  -1.32602598,  -2.78611278,   0.33212694,\n",
            "        -2.75296438,   0.2742063 ,  -2.81084621,   0.19978437,\n",
            "        -0.29783465,   0.49169152,  -0.17662728,   0.46333083,\n",
            "        -0.22941881,   0.42225207,   0.51958774,   0.614679  ,\n",
            "         0.53951733,   0.60691395,   0.48043081,   0.59266647,\n",
            "         0.58768986,   0.6291549 ,   0.63660261,   0.62352707,\n",
            "         0.57585847,   0.61283845,   0.65384917,   0.63419487,\n",
            "         0.65083396,   0.62917684,   0.62895344,   0.61950265,\n",
            "         0.68243401,   0.63667951,   0.6645375 ,   0.63237822,\n",
            "         0.65881161,   0.62280538,   0.70176461,   0.6380213 ,\n",
            "         0.68129582,   0.6335174 ,   0.65566827,   0.62485428,\n",
            "         0.7250698 ,   0.63894774,   0.68131455,   0.63463996,\n",
            "         0.66624415,   0.62611103]), 'split1_test_score': array([-9.38169094, -3.83317308, -9.38169094, -3.96164532, -9.38169094,\n",
            "       -4.09187964, -8.24499944, -0.18614489, -8.24499944, -0.30384112,\n",
            "       -8.24499944, -0.42974836, -6.92021967,  0.37371579, -6.92021967,\n",
            "        0.29667682, -6.92021967,  0.20762198, -0.27904013,  0.70343924,\n",
            "       -0.27134523,  0.6893672 , -0.31625289,  0.66995419,  0.6126467 ,\n",
            "        0.72132937,  0.57279581,  0.71283398,  0.55388024,  0.70189528,\n",
            "        0.77724403,  0.72735555,  0.76919205,  0.72074131,  0.75782049,\n",
            "        0.71310843,  0.78399401,  0.72737473,  0.77642002,  0.72071642,\n",
            "        0.76395454,  0.71317287,  0.7814081 ,  0.72735551,  0.78016511,\n",
            "        0.72080425,  0.76648803,  0.71305094,  0.77989193,  0.72733473,\n",
            "        0.77988446,  0.72060362,  0.76835383,  0.71298852,  0.78043913,\n",
            "        0.72734017,  0.7783626 ,  0.72057036,  0.77036638,  0.71293211,\n",
            "        0.77571423,  0.72740497,  0.77860269,  0.72049481,  0.77137412,\n",
            "        0.71296776]), 'split2_test_score': array([-11.05271712,  -4.53689044, -11.05271712,  -4.70410051,\n",
            "       -11.05271712,  -4.87396577,  -9.55002045,  -0.125993  ,\n",
            "        -9.55002045,  -0.25132905,  -9.55002045,  -0.38899349,\n",
            "        -7.81601155,   0.41615601,  -7.81601155,   0.35228901,\n",
            "        -7.81601155,   0.27404179,   0.09382071,   0.59938464,\n",
            "         0.08274207,   0.59600377,   0.0160045 ,   0.59298372,\n",
            "         0.65135552,   0.58452427,   0.65078426,   0.57988348,\n",
            "         0.62443758,   0.57766423,   0.67648409,   0.56502624,\n",
            "         0.66844718,   0.55747365,   0.66639351,   0.55099911,\n",
            "         0.65353773,   0.56188906,   0.65605099,   0.55386672,\n",
            "         0.62598924,   0.5466483 ,   0.64644521,   0.56081474,\n",
            "         0.64686231,   0.55268389,   0.60511439,   0.54514793,\n",
            "         0.63854384,   0.56035378,   0.62863678,   0.55212794,\n",
            "         0.59837147,   0.54437359,   0.63651301,   0.55993617,\n",
            "         0.62436321,   0.55175168,   0.59627805,   0.54437673,\n",
            "         0.63550386,   0.55969977,   0.62194798,   0.55152325,\n",
            "         0.59942333,   0.54363354]), 'split3_test_score': array([-1.06950807e+01, -3.19761580e+00, -1.06950807e+01, -3.32830184e+00,\n",
            "       -1.06950807e+01, -3.46109923e+00, -9.29844143e+00,  2.88483497e-01,\n",
            "       -9.29844143e+00,  1.98605993e-01, -9.29844143e+00,  9.90948293e-02,\n",
            "       -7.68690392e+00,  6.80599501e-01, -7.68690392e+00,  6.37143350e-01,\n",
            "       -7.68690392e+00,  5.82091494e-01,  2.78000660e-02,  8.12732980e-01,\n",
            "        2.57876861e-03,  8.11311253e-01, -4.17489102e-02,  8.08835488e-01,\n",
            "        7.39667615e-01,  8.02989286e-01,  7.32366656e-01,  8.02305268e-01,\n",
            "        7.17677108e-01,  8.01005280e-01,  8.25378617e-01,  7.85902767e-01,\n",
            "        8.26420747e-01,  7.83205305e-01,  8.27912745e-01,  7.80370618e-01,\n",
            "        8.22297356e-01,  7.82801601e-01,  8.21380557e-01,  7.79750644e-01,\n",
            "        8.20455405e-01,  7.76360363e-01,  8.18999047e-01,  7.81712961e-01,\n",
            "        8.17336618e-01,  7.78431864e-01,  8.15851436e-01,  7.74887487e-01,\n",
            "        8.16209057e-01,  7.81142607e-01,  8.16164962e-01,  7.77781487e-01,\n",
            "        8.10741470e-01,  7.74153277e-01,  8.14506362e-01,  7.80806195e-01,\n",
            "        8.14878418e-01,  7.77364347e-01,  8.06678787e-01,  7.73711541e-01,\n",
            "        8.13326363e-01,  7.80573302e-01,  8.14228173e-01,  7.77118944e-01,\n",
            "        8.06166931e-01,  7.73416702e-01]), 'split4_test_score': array([-20.16477847,  -5.59424684, -20.16477847,  -5.80428319,\n",
            "       -20.16477847,  -6.01774568, -17.76922195,   0.17134948,\n",
            "       -17.76922195,   0.04659493, -17.76922195,  -0.09400432,\n",
            "       -14.99429497,   0.72215966, -14.99429497,   0.67266681,\n",
            "       -14.99429497,   0.60840062,  -0.81587429,   0.82951952,\n",
            "        -0.75935225,   0.83262138,  -0.82915418,   0.83587681,\n",
            "         0.69895337,   0.80355913,   0.69390133,   0.8058295 ,\n",
            "         0.67586375,   0.80808917,   0.82971595,   0.77296462,\n",
            "         0.83297287,   0.77117511,   0.83500474,   0.76999031,\n",
            "         0.81488932,   0.76843492,   0.82357977,   0.76593985,\n",
            "         0.82104076,   0.76386182,   0.8079963 ,   0.76687722,\n",
            "         0.81540856,   0.76420685,   0.81589053,   0.76173484,\n",
            "         0.80598279,   0.766096  ,   0.80997227,   0.76324755,\n",
            "         0.81490729,   0.76067001,   0.8048263 ,   0.76562317,\n",
            "         0.80956843,   0.76268863,   0.81253853,   0.7600273 ,\n",
            "         0.80439619,   0.76528929,   0.80810234,   0.76231798,\n",
            "         0.81127448,   0.7595792 ]), 'split5_test_score': array([-1.04005840e+01, -2.91567037e+00, -1.04005840e+01, -3.03859382e+00,\n",
            "       -1.04005840e+01, -3.16351567e+00, -9.03900288e+00,  4.43253431e-01,\n",
            "       -9.03900288e+00,  3.67971425e-01, -9.03900288e+00,  2.83367492e-01,\n",
            "       -7.46566628e+00,  7.85595082e-01, -7.46566628e+00,  7.53962025e-01,\n",
            "       -7.46566628e+00,  7.14498566e-01,  1.08065250e-03,  8.76171318e-01,\n",
            "       -6.01019466e-03,  8.77338775e-01, -2.72337984e-02,  8.78698982e-01,\n",
            "        7.76244253e-01,  8.68036624e-01,  7.72128302e-01,  8.69711046e-01,\n",
            "        7.62576616e-01,  8.71181616e-01,  8.72108753e-01,  8.58141712e-01,\n",
            "        8.71957861e-01,  8.58926488e-01,  8.71917338e-01,  8.59132029e-01,\n",
            "        8.72151452e-01,  8.56718675e-01,  8.73489360e-01,  8.57250837e-01,\n",
            "        8.68776402e-01,  8.57198173e-01,  8.66318740e-01,  8.56216574e-01,\n",
            "        8.72600739e-01,  8.56693425e-01,  8.68770225e-01,  8.56550297e-01,\n",
            "        8.63168750e-01,  8.55987233e-01,  8.70819233e-01,  8.56411357e-01,\n",
            "        8.68111535e-01,  8.56209476e-01,  8.62657711e-01,  8.55777843e-01,\n",
            "        8.71455072e-01,  8.56199269e-01,  8.68803760e-01,  8.56004423e-01,\n",
            "        8.65023842e-01,  8.55713684e-01,  8.69588914e-01,  8.56115562e-01,\n",
            "        8.67764557e-01,  8.55868201e-01]), 'split6_test_score': array([-1.31890238e+01, -3.66613901e+00, -1.31890238e+01, -3.79304540e+00,\n",
            "       -1.31890238e+01, -3.92184316e+00, -1.17615857e+01,  1.69744805e-01,\n",
            "       -1.17615857e+01,  9.32019906e-02, -1.17615857e+01,  8.22956215e-03,\n",
            "       -1.00956954e+01,  5.42858656e-01, -1.00956954e+01,  5.12729802e-01,\n",
            "       -1.00956954e+01,  4.74150810e-01, -8.56720275e-01,  6.23176085e-01,\n",
            "       -8.85734015e-01,  6.30088370e-01, -8.86513923e-01,  6.37010972e-01,\n",
            "        4.60260947e-01,  6.08960960e-01,  4.54279726e-01,  6.15562609e-01,\n",
            "        4.46468438e-01,  6.22793815e-01,  5.80819086e-01,  5.94502284e-01,\n",
            "        5.83577634e-01,  5.98706531e-01,  5.72638181e-01,  6.03614346e-01,\n",
            "        5.81291559e-01,  5.92526969e-01,  5.78602075e-01,  5.96278165e-01,\n",
            "        5.65835013e-01,  6.00617797e-01,  5.72635653e-01,  5.91880125e-01,\n",
            "        5.78621946e-01,  5.95518252e-01,  5.61617535e-01,  5.99710951e-01,\n",
            "        5.74033888e-01,  5.91531731e-01,  5.76345052e-01,  5.95124233e-01,\n",
            "        5.60488843e-01,  5.99226018e-01,  5.72792141e-01,  5.91328864e-01,\n",
            "        5.77343480e-01,  5.94884563e-01,  5.60768063e-01,  5.98901345e-01,\n",
            "        5.71175494e-01,  5.91196249e-01,  5.76885748e-01,  5.94674744e-01,\n",
            "        5.62534932e-01,  5.98679635e-01]), 'split7_test_score': array([-13.32524343,  -4.32284184, -13.32524343,  -4.4457944 ,\n",
            "       -13.32524343,  -4.57025161, -12.06499304,  -0.12522238,\n",
            "       -12.06499304,  -0.22357553, -12.06499304,  -0.32917418,\n",
            "       -10.58019608,   0.4476831 , -10.58019608,   0.3946094 ,\n",
            "       -10.58019608,   0.33116155,  -1.52217083,   0.75121615,\n",
            "        -1.48742763,   0.74766993,  -1.54526779,   0.74211353,\n",
            "         0.29320628,   0.76520633,   0.28520949,   0.76390632,\n",
            "         0.27576782,   0.76135376,   0.69430327,   0.77011499,\n",
            "         0.72047739,   0.76985258,   0.73172826,   0.7690272 ,\n",
            "         0.72708632,   0.77028444,   0.74416216,   0.77002413,\n",
            "         0.75316799,   0.76936814,   0.73587872,   0.77031179,\n",
            "         0.74933637,   0.7700779 ,   0.76084574,   0.7694599 ,\n",
            "         0.7382965 ,   0.77031385,   0.75106137,   0.77008783,\n",
            "         0.7621134 ,   0.76951767,   0.73885383,   0.77031529,\n",
            "         0.75395694,   0.77009762,   0.76453356,   0.76952292,\n",
            "         0.74455813,   0.77031248,   0.75428295,   0.77010572,\n",
            "         0.76483959,   0.76943503]), 'split8_test_score': array([-3.21173565e+01, -1.27494411e+01, -3.21173565e+01, -1.29653497e+01,\n",
            "       -3.21173565e+01, -1.31830497e+01, -3.06293526e+01, -2.99400431e+00,\n",
            "       -3.06293526e+01, -3.21918765e+00, -3.06293526e+01, -3.45362732e+00,\n",
            "       -2.88243878e+01, -1.38662499e+00, -2.88243878e+01, -1.53678908e+00,\n",
            "       -2.88243878e+01, -1.70811727e+00, -7.79993643e+00, -2.24117913e-01,\n",
            "       -7.70224390e+00, -2.23534697e-01, -7.58617993e+00, -2.33719744e-01,\n",
            "       -1.97277113e+00, -1.11928995e-01, -1.99388963e+00, -9.28923868e-02,\n",
            "       -2.09175318e+00, -7.80003964e-02, -5.19592724e-01, -2.65256802e-02,\n",
            "       -4.42206376e-01, -2.12354896e-03, -4.39420653e-01,  2.07385911e-02,\n",
            "       -4.09484564e-01, -1.63084430e-02, -3.41809439e-01,  8.23589738e-03,\n",
            "       -2.65854939e-01,  3.13838100e-02, -3.78574251e-01, -1.32253296e-02,\n",
            "       -2.87070073e-01,  1.17955365e-02, -2.58176225e-01,  3.48872926e-02,\n",
            "       -3.65615611e-01, -1.13453869e-02, -2.88858592e-01,  1.34424960e-02,\n",
            "       -2.30162650e-01,  3.66027143e-02, -3.64371772e-01, -1.03672813e-02,\n",
            "       -2.86174299e-01,  1.44874764e-02, -2.23170501e-01,  3.75754473e-02,\n",
            "       -3.55085602e-01, -9.75171494e-03, -2.82446688e-01,  1.51613997e-02,\n",
            "       -2.21670176e-01,  3.83525781e-02]), 'split9_test_score': array([-27.67523469, -10.59060675, -27.67523469, -10.78329953,\n",
            "       -27.67523469, -10.97768658, -26.18809459,  -1.71327148,\n",
            "       -26.18809459,  -1.89784864, -26.18809459,  -2.09074386,\n",
            "       -24.39279077,  -0.34672833, -24.39279077,  -0.4515452 ,\n",
            "       -24.39279077,  -0.57453752,  -6.60552739,   0.43748913,\n",
            "        -6.4628323 ,   0.4403559 ,  -6.48698703,   0.44192928,\n",
            "        -0.97788809,   0.48539877,  -1.04639816,   0.49251408,\n",
            "        -1.13300822,   0.49953476,   0.20841468,   0.51117444,\n",
            "         0.26147381,   0.5167228 ,   0.29121789,   0.52115648,\n",
            "         0.32348518,   0.51345573,   0.34134189,   0.51849195,\n",
            "         0.34866183,   0.52190267,   0.3416826 ,   0.51416511,\n",
            "         0.35841135,   0.51900051,   0.35851295,   0.52205216,\n",
            "         0.36451326,   0.5144921 ,   0.37493146,   0.51923286,\n",
            "         0.38657883,   0.5221094 ,   0.371496  ,   0.51469497,\n",
            "         0.37564232,   0.51936889,   0.39554511,   0.52213704,\n",
            "         0.38178926,   0.51482695,   0.38100336,   0.51945357,\n",
            "         0.40212002,   0.52214821]), 'mean_test_score': array([-15.98231394,  -6.00882277, -15.98231394,  -6.16879625,\n",
            "       -15.98231394,  -6.33083511, -14.54007556,  -0.63888115,\n",
            "       -14.54007556,  -0.77486149, -14.54007556,  -0.9201667 ,\n",
            "       -12.84960057,   0.13288361, -12.84960057,   0.05225644,\n",
            "       -12.84960057,  -0.0416714 ,  -2.05426807,   0.57411381,\n",
            "        -2.02425891,   0.56754282,  -2.05141802,   0.55734676,\n",
            "         0.09838408,   0.60197673,   0.09445505,   0.60129847,\n",
            "         0.06024913,   0.59877696,   0.54644635,   0.61733359,\n",
            "         0.56318305,   0.61815942,   0.55956433,   0.61808036,\n",
            "         0.57569382,   0.61863326,   0.590982  ,   0.61940817,\n",
            "         0.58778847,   0.61933524,   0.58466393,   0.61903036,\n",
            "         0.59825069,   0.61983893,   0.59238681,   0.61969844,\n",
            "         0.58974584,   0.61925862,   0.59834945,   0.62004376,\n",
            "         0.59983156,   0.61986561,   0.59194773,   0.61934767,\n",
            "         0.6000692 ,   0.62009302,   0.600801  ,   0.62000431,\n",
            "         0.59614716,   0.61942127,   0.600351  ,   0.62016059,\n",
            "         0.60300719,   0.62001919]), 'std_test_score': array([7.57437884, 3.2625989 , 7.57437884, 3.29207673, 7.57437884,\n",
            "       3.32158003, 7.44754477, 1.16577291, 7.44754477, 1.22072166,\n",
            "       7.44754477, 1.27471859, 7.29179772, 0.71401036, 7.29179772,\n",
            "       0.76329599, 7.29179772, 0.81614463, 2.71732066, 0.31288077,\n",
            "       2.67113146, 0.31712752, 2.63463161, 0.32641793, 0.87037989,\n",
            "       0.26990486, 0.87555105, 0.26581866, 0.90559016, 0.26382513,\n",
            "       0.40109195, 0.23982515, 0.37662935, 0.23267672, 0.37446161,\n",
            "       0.2260315 , 0.36230431, 0.23645817, 0.34405459, 0.22918599,\n",
            "       0.32153566, 0.22232744, 0.35232227, 0.23543623, 0.3275932 ,\n",
            "       0.22802045, 0.31867979, 0.22113257, 0.34723067, 0.23483733,\n",
            "       0.32643216, 0.22746368, 0.30932921, 0.22055434, 0.34681445,\n",
            "       0.23451542, 0.32598352, 0.22711245, 0.30664266, 0.22020662,\n",
            "       0.34448308, 0.23431889, 0.32432686, 0.22689339, 0.30583998,\n",
            "       0.21996343]), 'rank_test_score': array([64, 55, 64, 56, 64, 57, 61, 49, 61, 50, 61, 51, 58, 43, 58, 47, 58,\n",
            "       48, 54, 37, 52, 38, 53, 41, 44, 20, 45, 21, 46, 26, 42, 18, 39, 16,\n",
            "       40, 17, 36, 15, 32, 10, 34, 12, 35, 14, 28,  7, 30,  8, 33, 13, 27,\n",
            "        3, 25,  6, 31, 11, 24,  2, 22,  5, 29,  9, 23,  1, 19,  4])}\n"
          ]
        }
      ],
      "source": [
        "# cv_results_: mostra toda a variação de testes realizados dado a configuração do param_grid\n",
        "print(grid.cv_results_)"
      ]
    },
    {
      "cell_type": "markdown",
      "metadata": {
        "id": "KLpM9jidcq31"
      },
      "source": [
        "## <font color = '#0000FF'>ANÁLISE DOS ATRIBUTOS</font>\n",
        "### Segundo o site do sklearn, atributos são uma forma de como as informações são armazenados em um estimador durante o ajuste. Atributos públicos tem a seguinte estrutura, começam com uma letra e terminam com um sublinhado( _ ), assim 'coef_', 'labels_'."
      ]
    },
    {
      "cell_type": "code",
      "execution_count": null,
      "metadata": {
        "id": "COCRmXJ_cq31",
        "outputId": "4d1fa90e-6ffa-435d-8a68-bfee3092cceb"
      },
      "outputs": [
        {
          "name": "stdout",
          "output_type": "stream",
          "text": [
            "62.01605945257806\n"
          ]
        }
      ],
      "source": [
        "# best_score_: mostra o valor da melhor performance dentre todas as combinações, mas representando a combinação \n",
        "# vista em best_params\n",
        "# Neste caso para R2\n",
        "print((grid.best_score_)*100)"
      ]
    },
    {
      "cell_type": "code",
      "execution_count": null,
      "metadata": {
        "id": "GQVOSnDicq32",
        "outputId": "361b0357-10b8-43f8-f213-dc5a5ccc579d"
      },
      "outputs": [
        {
          "name": "stdout",
          "output_type": "stream",
          "text": [
            "[23.4535391]\n"
          ]
        }
      ],
      "source": [
        "# Extrair o valor do intercept: momento em que x = 0 e cruza o eixo y\n",
        "# Aqui existe a combinação de dois atributos(.best_estimator e .coef_)\n",
        "print(grid.best_estimator_.intercept_)"
      ]
    },
    {
      "cell_type": "code",
      "execution_count": null,
      "metadata": {
        "id": "Ib-DEUGecq32",
        "outputId": "0df481be-e99e-4e6f-ca3d-7ebf92f3cfef"
      },
      "outputs": [
        {
          "data": {
            "text/html": [
              "<div>\n",
              "<style scoped>\n",
              "    .dataframe tbody tr th:only-of-type {\n",
              "        vertical-align: middle;\n",
              "    }\n",
              "\n",
              "    .dataframe tbody tr th {\n",
              "        vertical-align: top;\n",
              "    }\n",
              "\n",
              "    .dataframe thead th {\n",
              "        text-align: right;\n",
              "    }\n",
              "</style>\n",
              "<table border=\"1\" class=\"dataframe\">\n",
              "  <thead>\n",
              "    <tr style=\"text-align: right;\">\n",
              "      <th></th>\n",
              "      <th>0</th>\n",
              "    </tr>\n",
              "  </thead>\n",
              "  <tbody>\n",
              "    <tr>\n",
              "      <th>-0.634462</th>\n",
              "      <td>cylinders</td>\n",
              "    </tr>\n",
              "    <tr>\n",
              "      <th>0.983115</th>\n",
              "      <td>displacement</td>\n",
              "    </tr>\n",
              "    <tr>\n",
              "      <th>-0.137565</th>\n",
              "      <td>horsepower</td>\n",
              "    </tr>\n",
              "    <tr>\n",
              "      <th>-5.796531</th>\n",
              "      <td>weight</td>\n",
              "    </tr>\n",
              "    <tr>\n",
              "      <th>0.304744</th>\n",
              "      <td>accelaration</td>\n",
              "    </tr>\n",
              "    <tr>\n",
              "      <th>2.829008</th>\n",
              "      <td>model_year</td>\n",
              "    </tr>\n",
              "  </tbody>\n",
              "</table>\n",
              "</div>"
            ],
            "text/plain": [
              "                      0\n",
              "-0.634462     cylinders\n",
              " 0.983115  displacement\n",
              "-0.137565    horsepower\n",
              "-5.796531        weight\n",
              " 0.304744  accelaration\n",
              " 2.829008    model_year"
            ]
          },
          "execution_count": 113,
          "metadata": {},
          "output_type": "execute_result"
        }
      ],
      "source": [
        "# Extrair os coeficientes de cada variável antes do treinamento\n",
        "pd.DataFrame(X.columns, grid.best_estimator_.coef_)"
      ]
    },
    {
      "cell_type": "markdown",
      "metadata": {
        "id": "Y1YBep5Mcq32"
      },
      "source": [
        "## <font color = '#0000FF'>TREINAMENTO DO MODELO</font> \n",
        "### Usaremos os melhores parametros dados pelo .best_params"
      ]
    },
    {
      "cell_type": "code",
      "execution_count": null,
      "metadata": {
        "id": "hkqoO9Ticq32"
      },
      "outputs": [],
      "source": [
        "# Criar objeto LinearSVR\n",
        "svr_best = LinearSVR(C = 3, epsilon =  1.0, loss = 'squared_epsilon_insensitive')"
      ]
    },
    {
      "cell_type": "code",
      "execution_count": null,
      "metadata": {
        "id": "unObvpaWcq33"
      },
      "outputs": [],
      "source": [
        "# Treinar modelo e aplicar\n",
        "modelo = svr_best.fit(X_treino, y_treino)"
      ]
    },
    {
      "cell_type": "code",
      "execution_count": null,
      "metadata": {
        "id": "MRaxYjSGcq33",
        "outputId": "20ffb1c5-af6a-463e-93fa-04d43ad9f08d"
      },
      "outputs": [
        {
          "data": {
            "text/plain": [
              "80.91089824635173"
            ]
          },
          "execution_count": 179,
          "metadata": {},
          "output_type": "execute_result"
        }
      ],
      "source": [
        "# Valor do coeficiente de determinação (R2) após treinamento\n",
        "modelo.score(X_treino, y_treino)*100"
      ]
    },
    {
      "cell_type": "code",
      "execution_count": null,
      "metadata": {
        "id": "AVE5G8KVcq33",
        "outputId": "dfd0d1b4-57e5-4827-e238-a45205e70071"
      },
      "outputs": [
        {
          "name": "stdout",
          "output_type": "stream",
          "text": [
            "[23.56126145]\n"
          ]
        }
      ],
      "source": [
        "# Ver valor do intercepto. Valor que cruza o eixo y quando x = 0\n",
        "print(modelo.intercept_)"
      ]
    },
    {
      "cell_type": "code",
      "execution_count": null,
      "metadata": {
        "id": "5YKzXFMvcq33",
        "outputId": "50bccf29-eb3a-41a8-d9f5-457446311399"
      },
      "outputs": [
        {
          "data": {
            "text/html": [
              "<div>\n",
              "<style scoped>\n",
              "    .dataframe tbody tr th:only-of-type {\n",
              "        vertical-align: middle;\n",
              "    }\n",
              "\n",
              "    .dataframe tbody tr th {\n",
              "        vertical-align: top;\n",
              "    }\n",
              "\n",
              "    .dataframe thead th {\n",
              "        text-align: right;\n",
              "    }\n",
              "</style>\n",
              "<table border=\"1\" class=\"dataframe\">\n",
              "  <thead>\n",
              "    <tr style=\"text-align: right;\">\n",
              "      <th></th>\n",
              "      <th>0</th>\n",
              "    </tr>\n",
              "  </thead>\n",
              "  <tbody>\n",
              "    <tr>\n",
              "      <th>-0.341138</th>\n",
              "      <td>cylinders</td>\n",
              "    </tr>\n",
              "    <tr>\n",
              "      <th>1.364088</th>\n",
              "      <td>displacement</td>\n",
              "    </tr>\n",
              "    <tr>\n",
              "      <th>-0.727467</th>\n",
              "      <td>horsepower</td>\n",
              "    </tr>\n",
              "    <tr>\n",
              "      <th>-5.813947</th>\n",
              "      <td>weight</td>\n",
              "    </tr>\n",
              "    <tr>\n",
              "      <th>0.509077</th>\n",
              "      <td>accelaration</td>\n",
              "    </tr>\n",
              "    <tr>\n",
              "      <th>2.799148</th>\n",
              "      <td>model_year</td>\n",
              "    </tr>\n",
              "  </tbody>\n",
              "</table>\n",
              "</div>"
            ],
            "text/plain": [
              "                      0\n",
              "-0.341138     cylinders\n",
              " 1.364088  displacement\n",
              "-0.727467    horsepower\n",
              "-5.813947        weight\n",
              " 0.509077  accelaration\n",
              " 2.799148    model_year"
            ]
          },
          "execution_count": 129,
          "metadata": {},
          "output_type": "execute_result"
        }
      ],
      "source": [
        "# Extrair os coeficientes após treinamento\n",
        "# Valore que explicam a variável target\n",
        "pd.DataFrame(X.columns, modelo.coef_)"
      ]
    },
    {
      "cell_type": "markdown",
      "metadata": {
        "id": "lLZ1idQscq33"
      },
      "source": [
        "### Interpretação dos coeficientes\n",
        "a) quanto mais cilindros, menor a eficiencia do veículo de mpg(milhas por galão)\n",
        "\n",
        "b) quanto maior o deslocamento do motor, mais o veículo rende por galão\n",
        "\n",
        "c) horsepower aumentado significa queda de rendimento por galão\n",
        "\n",
        "d) quanto mais pesado o veículo menor o rendimento por galão\n",
        "\n",
        "e) quanto maior a aceleração, maior o rendimento por galão\n",
        "\n",
        "f) quanto mais novo o modelo do veículo maior o rendimento por galão.\n",
        "\n",
        "#### É estranho a relação proporcional entre displacement e mpg, visto que são grandezas inversas.\n",
        "#### Não irei resolver esse problema aqui, por não ser o objetivo do post, mas fica pra você analisar com uma gráfico de correlação.\n",
        "#### Também é possivel eliminar valores outiliers, o que melhoria os valores dos atributos"
      ]
    },
    {
      "cell_type": "markdown",
      "metadata": {
        "id": "4JMVV860cq34"
      },
      "source": [
        "## <font color = '#228B22'>CONCLUSÕES</font>"
      ]
    },
    {
      "cell_type": "markdown",
      "metadata": {
        "id": "ou6tQcJpcq34"
      },
      "source": [
        "### <font color = '#6495ED'>MELHORES PARÂMETROS SELECIONADOS PELO GRIDSEARHCV</font>\n",
        "\n",
        "LinearSVR:\n",
        "{'C': 3.0, 'epsilon': 1.0, 'loss': 'squared_epsilon_insensitive'}\n",
        "\n",
        "\n",
        "### SCORE PARA R2 (%) APÓS O TREINAMENTO\n",
        "80.91\n",
        "\n",
        "#### Não era o foco fazer  a previsão neste notebook, mas sim apresentar alguns dos principais parâmetros e atributos do LinearSVR com GridSearchCV.\n",
        "\n",
        "### Fica o desafio para você fazer as limpezas do dataset e aplicar novamente o LinearSVR com GridSearchCV e ver o quanto melhorará o modelo."
      ]
    },
    {
      "cell_type": "markdown",
      "metadata": {
        "id": "LaO8TOwBcq34"
      },
      "source": [
        "# <font color = '#0000FF'>FIM</font>"
      ]
    }
  ],
  "metadata": {
    "interpreter": {
      "hash": "ccd75a29da95b98a3c3e2f6e03a80f1223af59106eb87c3d2f2d59b9767cc6aa"
    },
    "kernelspec": {
      "display_name": "Python 3",
      "language": "python",
      "name": "python3"
    },
    "language_info": {
      "codemirror_mode": {
        "name": "ipython",
        "version": 3
      },
      "file_extension": ".py",
      "mimetype": "text/x-python",
      "name": "python",
      "nbconvert_exporter": "python",
      "pygments_lexer": "ipython3",
      "version": "3.7.6"
    },
    "colab": {
      "name": "SVM_Grid.ipynb",
      "provenance": [],
      "include_colab_link": true
    }
  },
  "nbformat": 4,
  "nbformat_minor": 0
}